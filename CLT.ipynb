{
 "cells": [
  {
   "cell_type": "code",
   "execution_count": 32,
   "metadata": {
    "collapsed": true
   },
   "outputs": [],
   "source": [
    "%%capture\n",
    "import os\n",
    "\n",
    "import numpy as np\n",
    "import pandas as pd\n",
    "import pickle\n",
    "\n",
    "from LabData.DataLoaders.SerumMetabolomicsLoader import SerumMetabolomicsLoader\n",
    "from LabData.DataLoaders.BloodTestsLoader import BloodTestsLoader\n",
    "from LabData.DataLoaders.BodyMeasuresLoader import BodyMeasuresLoader\n",
    "from LabData.DataLoaders.LifeStyleLoader import LifeStyleLoader\n",
    "from LabData.DataLoaders.MedicalConditionLoader import MedicalConditionLoader\n",
    "from LabData.DataLoaders.SubjectLoader import SubjectLoader\n",
    "\n",
    "from LabUtils.addloglevels import sethandlers\n",
    "from LabQueue.qp import qp, fakeqp\n",
    "\n",
    "import Loaders\n",
    "import config_local as cl\n",
    "import LGBM\n",
    "import ResultsAnalysis\n",
    "import ShapCalc"
   ]
  },
  {
   "cell_type": "code",
   "execution_count": 3,
   "outputs": [
    {
     "ename": "TypeError",
     "evalue": "'method' object is not iterable",
     "output_type": "error",
     "traceback": [
      "\u001B[0;31m---------------------------------------------------------------------------\u001B[0m",
      "\u001B[0;31mTypeError\u001B[0m                                 Traceback (most recent call last)",
      "\u001B[0;32m/usr/wisdom/python-3.7.4/lib/python3.7/site-packages/pandas/core/indexes/base.py\u001B[0m in \u001B[0;36mensure_has_len\u001B[0;34m(seq)\u001B[0m\n\u001B[1;32m   5925\u001B[0m     \u001B[0;32mtry\u001B[0m\u001B[0;34m:\u001B[0m\u001B[0;34m\u001B[0m\u001B[0;34m\u001B[0m\u001B[0m\n\u001B[0;32m-> 5926\u001B[0;31m         \u001B[0mlen\u001B[0m\u001B[0;34m(\u001B[0m\u001B[0mseq\u001B[0m\u001B[0;34m)\u001B[0m\u001B[0;34m\u001B[0m\u001B[0;34m\u001B[0m\u001B[0m\n\u001B[0m\u001B[1;32m   5927\u001B[0m     \u001B[0;32mexcept\u001B[0m \u001B[0mTypeError\u001B[0m\u001B[0;34m:\u001B[0m\u001B[0;34m\u001B[0m\u001B[0;34m\u001B[0m\u001B[0m\n",
      "\u001B[0;31mTypeError\u001B[0m: object of type 'method' has no len()",
      "\nDuring handling of the above exception, another exception occurred:\n",
      "\u001B[0;31mTypeError\u001B[0m                                 Traceback (most recent call last)",
      "\u001B[0;32m<ipython-input-3-468904ccff5e>\u001B[0m in \u001B[0;36m<module>\u001B[0;34m\u001B[0m\n\u001B[1;32m     12\u001B[0m \u001B[0;34m\u001B[0m\u001B[0m\n\u001B[1;32m     13\u001B[0m \u001B[0mag\u001B[0m \u001B[0;34m=\u001B[0m \u001B[0mSubjectLoader\u001B[0m\u001B[0;34m(\u001B[0m\u001B[0;34m)\u001B[0m\u001B[0;34m.\u001B[0m\u001B[0mget_data\u001B[0m\u001B[0;34m(\u001B[0m\u001B[0mstudy_ids\u001B[0m\u001B[0;34m=\u001B[0m\u001B[0;34m'10K'\u001B[0m\u001B[0;34m,\u001B[0m \u001B[0mgroupby_reg\u001B[0m\u001B[0;34m=\u001B[0m\u001B[0;34m'first'\u001B[0m\u001B[0;34m)\u001B[0m\u001B[0;34m.\u001B[0m\u001B[0mdf\u001B[0m\u001B[0;34m.\u001B[0m\u001B[0mloc\u001B[0m\u001B[0;34m[\u001B[0m\u001B[0mintersec\u001B[0m\u001B[0;34m]\u001B[0m\u001B[0;34m[\u001B[0m\u001B[0;34m[\u001B[0m\u001B[0;34m'gender'\u001B[0m\u001B[0;34m,\u001B[0m\u001B[0;34m'age'\u001B[0m\u001B[0;34m]\u001B[0m\u001B[0;34m]\u001B[0m\u001B[0;34m.\u001B[0m\u001B[0mdropna\u001B[0m\u001B[0;34m(\u001B[0m\u001B[0mhow\u001B[0m\u001B[0;34m=\u001B[0m\u001B[0;34m'any'\u001B[0m\u001B[0;34m)\u001B[0m\u001B[0;34m\u001B[0m\u001B[0;34m\u001B[0m\u001B[0m\n\u001B[0;32m---> 14\u001B[0;31m \u001B[0mbtdf\u001B[0m \u001B[0;34m=\u001B[0m \u001B[0mbtdf\u001B[0m\u001B[0;34m.\u001B[0m\u001B[0mreindex\u001B[0m\u001B[0;34m(\u001B[0m\u001B[0mag\u001B[0m\u001B[0;34m.\u001B[0m\u001B[0mreindex\u001B[0m\u001B[0;34m)\u001B[0m\u001B[0;34m\u001B[0m\u001B[0;34m\u001B[0m\u001B[0m\n\u001B[0m\u001B[1;32m     15\u001B[0m \u001B[0mgmbdf\u001B[0m \u001B[0;34m=\u001B[0m \u001B[0mgmbdf\u001B[0m\u001B[0;34m.\u001B[0m\u001B[0mreindex\u001B[0m\u001B[0;34m(\u001B[0m\u001B[0mag\u001B[0m\u001B[0;34m.\u001B[0m\u001B[0mreindex\u001B[0m\u001B[0;34m)\u001B[0m\u001B[0;34m\u001B[0m\u001B[0;34m\u001B[0m\u001B[0m\n",
      "\u001B[0;32m/usr/wisdom/python-3.7.4/lib/python3.7/site-packages/pandas/util/_decorators.py\u001B[0m in \u001B[0;36mwrapper\u001B[0;34m(*args, **kwargs)\u001B[0m\n\u001B[1;32m    310\u001B[0m         \u001B[0;34m@\u001B[0m\u001B[0mwraps\u001B[0m\u001B[0;34m(\u001B[0m\u001B[0mfunc\u001B[0m\u001B[0;34m)\u001B[0m\u001B[0;34m\u001B[0m\u001B[0;34m\u001B[0m\u001B[0m\n\u001B[1;32m    311\u001B[0m         \u001B[0;32mdef\u001B[0m \u001B[0mwrapper\u001B[0m\u001B[0;34m(\u001B[0m\u001B[0;34m*\u001B[0m\u001B[0margs\u001B[0m\u001B[0;34m,\u001B[0m \u001B[0;34m**\u001B[0m\u001B[0mkwargs\u001B[0m\u001B[0;34m)\u001B[0m \u001B[0;34m->\u001B[0m \u001B[0mCallable\u001B[0m\u001B[0;34m[\u001B[0m\u001B[0;34m...\u001B[0m\u001B[0;34m,\u001B[0m \u001B[0mAny\u001B[0m\u001B[0;34m]\u001B[0m\u001B[0;34m:\u001B[0m\u001B[0;34m\u001B[0m\u001B[0;34m\u001B[0m\u001B[0m\n\u001B[0;32m--> 312\u001B[0;31m             \u001B[0;32mreturn\u001B[0m \u001B[0mfunc\u001B[0m\u001B[0;34m(\u001B[0m\u001B[0;34m*\u001B[0m\u001B[0margs\u001B[0m\u001B[0;34m,\u001B[0m \u001B[0;34m**\u001B[0m\u001B[0mkwargs\u001B[0m\u001B[0;34m)\u001B[0m\u001B[0;34m\u001B[0m\u001B[0;34m\u001B[0m\u001B[0m\n\u001B[0m\u001B[1;32m    313\u001B[0m \u001B[0;34m\u001B[0m\u001B[0m\n\u001B[1;32m    314\u001B[0m         \u001B[0mkind\u001B[0m \u001B[0;34m=\u001B[0m \u001B[0minspect\u001B[0m\u001B[0;34m.\u001B[0m\u001B[0mParameter\u001B[0m\u001B[0;34m.\u001B[0m\u001B[0mPOSITIONAL_OR_KEYWORD\u001B[0m\u001B[0;34m\u001B[0m\u001B[0;34m\u001B[0m\u001B[0m\n",
      "\u001B[0;32m/usr/wisdom/python-3.7.4/lib/python3.7/site-packages/pandas/core/frame.py\u001B[0m in \u001B[0;36mreindex\u001B[0;34m(self, *args, **kwargs)\u001B[0m\n\u001B[1;32m   4174\u001B[0m         \u001B[0mkwargs\u001B[0m\u001B[0;34m.\u001B[0m\u001B[0mpop\u001B[0m\u001B[0;34m(\u001B[0m\u001B[0;34m\"axis\"\u001B[0m\u001B[0;34m,\u001B[0m \u001B[0;32mNone\u001B[0m\u001B[0;34m)\u001B[0m\u001B[0;34m\u001B[0m\u001B[0;34m\u001B[0m\u001B[0m\n\u001B[1;32m   4175\u001B[0m         \u001B[0mkwargs\u001B[0m\u001B[0;34m.\u001B[0m\u001B[0mpop\u001B[0m\u001B[0;34m(\u001B[0m\u001B[0;34m\"labels\"\u001B[0m\u001B[0;34m,\u001B[0m \u001B[0;32mNone\u001B[0m\u001B[0;34m)\u001B[0m\u001B[0;34m\u001B[0m\u001B[0;34m\u001B[0m\u001B[0m\n\u001B[0;32m-> 4176\u001B[0;31m         \u001B[0;32mreturn\u001B[0m \u001B[0msuper\u001B[0m\u001B[0;34m(\u001B[0m\u001B[0;34m)\u001B[0m\u001B[0;34m.\u001B[0m\u001B[0mreindex\u001B[0m\u001B[0;34m(\u001B[0m\u001B[0;34m**\u001B[0m\u001B[0mkwargs\u001B[0m\u001B[0;34m)\u001B[0m\u001B[0;34m\u001B[0m\u001B[0;34m\u001B[0m\u001B[0m\n\u001B[0m\u001B[1;32m   4177\u001B[0m \u001B[0;34m\u001B[0m\u001B[0m\n\u001B[1;32m   4178\u001B[0m     def drop(\n",
      "\u001B[0;32m/usr/wisdom/python-3.7.4/lib/python3.7/site-packages/pandas/core/generic.py\u001B[0m in \u001B[0;36mreindex\u001B[0;34m(self, *args, **kwargs)\u001B[0m\n\u001B[1;32m   4810\u001B[0m         \u001B[0;31m# perform the reindex on the axes\u001B[0m\u001B[0;34m\u001B[0m\u001B[0;34m\u001B[0m\u001B[0;34m\u001B[0m\u001B[0m\n\u001B[1;32m   4811\u001B[0m         return self._reindex_axes(\n\u001B[0;32m-> 4812\u001B[0;31m             \u001B[0maxes\u001B[0m\u001B[0;34m,\u001B[0m \u001B[0mlevel\u001B[0m\u001B[0;34m,\u001B[0m \u001B[0mlimit\u001B[0m\u001B[0;34m,\u001B[0m \u001B[0mtolerance\u001B[0m\u001B[0;34m,\u001B[0m \u001B[0mmethod\u001B[0m\u001B[0;34m,\u001B[0m \u001B[0mfill_value\u001B[0m\u001B[0;34m,\u001B[0m \u001B[0mcopy\u001B[0m\u001B[0;34m\u001B[0m\u001B[0;34m\u001B[0m\u001B[0m\n\u001B[0m\u001B[1;32m   4813\u001B[0m         ).__finalize__(self, method=\"reindex\")\n\u001B[1;32m   4814\u001B[0m \u001B[0;34m\u001B[0m\u001B[0m\n",
      "\u001B[0;32m/usr/wisdom/python-3.7.4/lib/python3.7/site-packages/pandas/core/frame.py\u001B[0m in \u001B[0;36m_reindex_axes\u001B[0;34m(self, axes, level, limit, tolerance, method, fill_value, copy)\u001B[0m\n\u001B[1;32m   4021\u001B[0m         \u001B[0;32mif\u001B[0m \u001B[0mindex\u001B[0m \u001B[0;32mis\u001B[0m \u001B[0;32mnot\u001B[0m \u001B[0;32mNone\u001B[0m\u001B[0;34m:\u001B[0m\u001B[0;34m\u001B[0m\u001B[0;34m\u001B[0m\u001B[0m\n\u001B[1;32m   4022\u001B[0m             frame = frame._reindex_index(\n\u001B[0;32m-> 4023\u001B[0;31m                 \u001B[0mindex\u001B[0m\u001B[0;34m,\u001B[0m \u001B[0mmethod\u001B[0m\u001B[0;34m,\u001B[0m \u001B[0mcopy\u001B[0m\u001B[0;34m,\u001B[0m \u001B[0mlevel\u001B[0m\u001B[0;34m,\u001B[0m \u001B[0mfill_value\u001B[0m\u001B[0;34m,\u001B[0m \u001B[0mlimit\u001B[0m\u001B[0;34m,\u001B[0m \u001B[0mtolerance\u001B[0m\u001B[0;34m\u001B[0m\u001B[0;34m\u001B[0m\u001B[0m\n\u001B[0m\u001B[1;32m   4024\u001B[0m             )\n\u001B[1;32m   4025\u001B[0m \u001B[0;34m\u001B[0m\u001B[0m\n",
      "\u001B[0;32m/usr/wisdom/python-3.7.4/lib/python3.7/site-packages/pandas/core/frame.py\u001B[0m in \u001B[0;36m_reindex_index\u001B[0;34m(self, new_index, method, copy, level, fill_value, limit, tolerance)\u001B[0m\n\u001B[1;32m   4037\u001B[0m     ):\n\u001B[1;32m   4038\u001B[0m         new_index, indexer = self.index.reindex(\n\u001B[0;32m-> 4039\u001B[0;31m             \u001B[0mnew_index\u001B[0m\u001B[0;34m,\u001B[0m \u001B[0mmethod\u001B[0m\u001B[0;34m=\u001B[0m\u001B[0mmethod\u001B[0m\u001B[0;34m,\u001B[0m \u001B[0mlevel\u001B[0m\u001B[0;34m=\u001B[0m\u001B[0mlevel\u001B[0m\u001B[0;34m,\u001B[0m \u001B[0mlimit\u001B[0m\u001B[0;34m=\u001B[0m\u001B[0mlimit\u001B[0m\u001B[0;34m,\u001B[0m \u001B[0mtolerance\u001B[0m\u001B[0;34m=\u001B[0m\u001B[0mtolerance\u001B[0m\u001B[0;34m\u001B[0m\u001B[0;34m\u001B[0m\u001B[0m\n\u001B[0m\u001B[1;32m   4040\u001B[0m         )\n\u001B[1;32m   4041\u001B[0m         return self._reindex_with_indexers(\n",
      "\u001B[0;32m/usr/wisdom/python-3.7.4/lib/python3.7/site-packages/pandas/core/indexes/base.py\u001B[0m in \u001B[0;36mreindex\u001B[0;34m(self, target, method, level, limit, tolerance)\u001B[0m\n\u001B[1;32m   3497\u001B[0m \u001B[0;34m\u001B[0m\u001B[0m\n\u001B[1;32m   3498\u001B[0m         \u001B[0;31m# GH7774: preserve dtype/tz if target is empty and not an Index.\u001B[0m\u001B[0;34m\u001B[0m\u001B[0;34m\u001B[0m\u001B[0;34m\u001B[0m\u001B[0m\n\u001B[0;32m-> 3499\u001B[0;31m         \u001B[0mtarget\u001B[0m \u001B[0;34m=\u001B[0m \u001B[0mensure_has_len\u001B[0m\u001B[0;34m(\u001B[0m\u001B[0mtarget\u001B[0m\u001B[0;34m)\u001B[0m  \u001B[0;31m# target may be an iterator\u001B[0m\u001B[0;34m\u001B[0m\u001B[0;34m\u001B[0m\u001B[0m\n\u001B[0m\u001B[1;32m   3500\u001B[0m \u001B[0;34m\u001B[0m\u001B[0m\n\u001B[1;32m   3501\u001B[0m         \u001B[0;32mif\u001B[0m \u001B[0;32mnot\u001B[0m \u001B[0misinstance\u001B[0m\u001B[0;34m(\u001B[0m\u001B[0mtarget\u001B[0m\u001B[0;34m,\u001B[0m \u001B[0mIndex\u001B[0m\u001B[0;34m)\u001B[0m \u001B[0;32mand\u001B[0m \u001B[0mlen\u001B[0m\u001B[0;34m(\u001B[0m\u001B[0mtarget\u001B[0m\u001B[0;34m)\u001B[0m \u001B[0;34m==\u001B[0m \u001B[0;36m0\u001B[0m\u001B[0;34m:\u001B[0m\u001B[0;34m\u001B[0m\u001B[0;34m\u001B[0m\u001B[0m\n",
      "\u001B[0;32m/usr/wisdom/python-3.7.4/lib/python3.7/site-packages/pandas/core/indexes/base.py\u001B[0m in \u001B[0;36mensure_has_len\u001B[0;34m(seq)\u001B[0m\n\u001B[1;32m   5926\u001B[0m         \u001B[0mlen\u001B[0m\u001B[0;34m(\u001B[0m\u001B[0mseq\u001B[0m\u001B[0;34m)\u001B[0m\u001B[0;34m\u001B[0m\u001B[0;34m\u001B[0m\u001B[0m\n\u001B[1;32m   5927\u001B[0m     \u001B[0;32mexcept\u001B[0m \u001B[0mTypeError\u001B[0m\u001B[0;34m:\u001B[0m\u001B[0;34m\u001B[0m\u001B[0;34m\u001B[0m\u001B[0m\n\u001B[0;32m-> 5928\u001B[0;31m         \u001B[0;32mreturn\u001B[0m \u001B[0mlist\u001B[0m\u001B[0;34m(\u001B[0m\u001B[0mseq\u001B[0m\u001B[0;34m)\u001B[0m\u001B[0;34m\u001B[0m\u001B[0;34m\u001B[0m\u001B[0m\n\u001B[0m\u001B[1;32m   5929\u001B[0m     \u001B[0;32melse\u001B[0m\u001B[0;34m:\u001B[0m\u001B[0;34m\u001B[0m\u001B[0;34m\u001B[0m\u001B[0m\n\u001B[1;32m   5930\u001B[0m         \u001B[0;32mreturn\u001B[0m \u001B[0mseq\u001B[0m\u001B[0;34m\u001B[0m\u001B[0;34m\u001B[0m\u001B[0m\n",
      "\u001B[0;31mTypeError\u001B[0m: 'method' object is not iterable"
     ]
    }
   ],
   "source": [
    "%%capture\n",
    "\n",
    "btld = Loaders.get_BloodTestsLoaderDF()\n",
    "\n",
    "\n",
    "\n",
    "gmbdf = Loaders.get_GutMBLoader()\n",
    "\n",
    "\n",
    "# ag = SubjectLoader().get_data(study_ids='10K', groupby_reg='first').df.loc[intersec][['gender','age']].dropna(how='any')\n",
    "# btdf = btdf.reindex(ag.reindex)\n",
    "# gmbdf = gmbdf.reindex(ag.reindex)"
   ],
   "metadata": {
    "collapsed": false,
    "pycharm": {
     "name": "#%%\n"
    }
   }
  },
  {
   "cell_type": "code",
   "execution_count": 4,
   "outputs": [],
   "source": [
    "btdf = btld.df\n",
    "btdf.index = btdf.index.get_level_values('RegistrationCode')\n",
    "\n",
    "intersec = btdf.index.intersection(gmbdf.index)\n",
    "\n",
    "btdf = btdf.loc[intersec]\n",
    "gmbdf = gmbdf.loc[intersec]"
   ],
   "metadata": {
    "collapsed": false,
    "pycharm": {
     "name": "#%%\n"
    }
   }
  },
  {
   "cell_type": "code",
   "execution_count": 52,
   "outputs": [
    {
     "data": {
      "text/plain": "[                  gender   age\n RegistrationCode              \n 10K_1118741432       0.0  35.0\n 10K_2086246041       0.0  36.0\n 10K_2741177793       0.0  37.0\n 10K_2945550451       0.0  31.0\n 10K_3774163126       0.0  38.0\n 10K_3817679743       0.0  38.0\n 10K_5638147535       0.0  30.0\n 10K_5708831646       0.0  33.0\n 10K_6133989659       0.0  36.0\n 10K_6574486945       0.0  31.0\n 10K_6602192367       0.0  35.0\n 10K_6856606284       0.0  38.0\n 10K_8040311762       0.0  36.0\n 10K_8400848306       0.0  34.0\n 10K_8820878172       0.0  33.0\n 10K_9283332645       0.0  39.0\n 10K_9814829772       0.0  35.0,\n                   gender   age\n RegistrationCode              \n 10K_1001201093       0.0  42.0\n 10K_1007474664       0.0  48.0\n 10K_1012289523       0.0  44.0\n 10K_1016331244       0.0  49.0\n 10K_1020576262       0.0  42.0\n ...                  ...   ...\n 10K_9970701406       0.0  48.0\n 10K_9981509405       0.0  43.0\n 10K_9982977445       0.0  46.0\n 10K_9985445829       0.0  43.0\n 10K_9985820154       0.0  45.0\n \n [1429 rows x 2 columns],\n                   gender   age\n RegistrationCode              \n 10K_1007599726       0.0  58.0\n 10K_1009247427       0.0  52.0\n 10K_1015653163       0.0  52.0\n 10K_1019174630       0.0  52.0\n 10K_1020360784       0.0  51.0\n ...                  ...   ...\n 10K_9975645275       0.0  55.0\n 10K_9977346258       0.0  58.0\n 10K_9984191583       0.0  51.0\n 10K_9996884777       0.0  53.0\n 10K_9999409119       0.0  56.0\n \n [1609 rows x 2 columns],\n                   gender   age\n RegistrationCode              \n 10K_1019022408       0.0  60.0\n 10K_1041888957       0.0  61.0\n 10K_1046910620       0.0  67.0\n 10K_1049663193       0.0  68.0\n 10K_1076373752       0.0  60.0\n ...                  ...   ...\n 10K_9926809167       0.0  64.0\n 10K_9948270697       0.0  63.0\n 10K_9976173468       0.0  67.0\n 10K_9982838880       0.0  64.0\n 10K_9985667572       0.0  65.0\n \n [844 rows x 2 columns],\n                   gender   age\n RegistrationCode              \n 10K_1012027362       0.0  71.0\n 10K_1018146705       0.0  70.0\n 10K_1033799406       0.0  70.0\n 10K_1098823023       0.0  70.0\n 10K_1326135841       0.0  70.0\n ...                  ...   ...\n 10K_9364050655       0.0  70.0\n 10K_9409491778       0.0  71.0\n 10K_9534288476       0.0  70.0\n 10K_9786717435       0.0  70.0\n 10K_9863334835       0.0  71.0\n \n [126 rows x 2 columns],\n                   gender   age\n RegistrationCode              \n 10K_1170902457       1.0  37.0\n 10K_1382603831       1.0  39.0\n 10K_1693579854       1.0  37.0\n 10K_1990461261       1.0  37.0\n 10K_3449221896       1.0  39.0\n 10K_3632931709       1.0  37.0\n 10K_4262662124       1.0  37.0\n 10K_4355673345       1.0  35.0\n 10K_4475819920       1.0  38.0\n 10K_4954167465       1.0  35.0\n 10K_5116377237       1.0  38.0\n 10K_6218999447       1.0  34.0\n 10K_6523582682       1.0  35.0\n 10K_7373351389       1.0  37.0\n 10K_8588781577       1.0  39.0\n 10K_9462993741       1.0  38.0\n 10K_9532418505       1.0  36.0,\n                   gender   age\n RegistrationCode              \n 10K_1008294272       1.0  49.0\n 10K_1012020971       1.0  44.0\n 10K_1013508700       1.0  44.0\n 10K_1021192587       1.0  49.0\n 10K_1021660035       1.0  48.0\n ...                  ...   ...\n 10K_9970447258       1.0  42.0\n 10K_9970990606       1.0  45.0\n 10K_9972720068       1.0  48.0\n 10K_9994795317       1.0  49.0\n 10K_9999226141       1.0  44.0\n \n [1472 rows x 2 columns],\n                   gender   age\n RegistrationCode              \n 10K_1000942861       1.0  54.0\n 10K_1003113258       1.0  50.0\n 10K_1026607254       1.0  58.0\n 10K_1027123179       1.0  50.0\n 10K_1036201657       1.0  54.0\n ...                  ...   ...\n 10K_9968578483       1.0  56.0\n 10K_9971099442       1.0  57.0\n 10K_9972023164       1.0  50.0\n 10K_9985162724       1.0  50.0\n 10K_9995623290       1.0  55.0\n \n [1383 rows x 2 columns],\n                   gender   age\n RegistrationCode              \n 10K_1012400211       1.0  61.0\n 10K_1050950469       1.0  66.0\n 10K_1058741092       1.0  67.0\n 10K_1062073947       1.0  65.0\n 10K_1072680413       1.0  60.0\n ...                  ...   ...\n 10K_9848954830       1.0  62.0\n 10K_9889630431       1.0  64.0\n 10K_9985461404       1.0  69.0\n 10K_9985863396       1.0  69.0\n 10K_9993849627       1.0  68.0\n \n [591 rows x 2 columns],\n                   gender   age\n RegistrationCode              \n 10K_1019625838       1.0  72.0\n 10K_1038285016       1.0  71.0\n 10K_1294525580       1.0  72.0\n 10K_1327967442       1.0  72.0\n 10K_1458206186       1.0  71.0\n ...                  ...   ...\n 10K_9546025513       1.0  70.0\n 10K_9660737767       1.0  71.0\n 10K_9664830808       1.0  71.0\n 10K_9769009898       1.0  74.0\n 10K_9892953628       1.0  74.0\n \n [112 rows x 2 columns]]"
     },
     "execution_count": 52,
     "metadata": {},
     "output_type": "execute_result"
    }
   ],
   "source": [
    "possible_ages = [[i, i+9.9] for i in range(30, 80, 10)]\n",
    "possible_gender = [0,1]\n",
    "age_gender = []\n",
    "\n",
    "for gender in possible_gender:\n",
    "    for age_span in possible_ages:\n",
    "        age = ag[ag['age'] <= age_span[1]]\n",
    "        age = age[age['age'] >= age_span[0]]\n",
    "        age.index = age.index.get_level_values('RegistrationCode')\n",
    "        age_gender.append(age[age['gender'] == gender])\n",
    "age_gender"
   ],
   "metadata": {
    "collapsed": false,
    "pycharm": {
     "name": "#%%\n"
    }
   }
  },
  {
   "cell_type": "code",
   "execution_count": 55,
   "outputs": [
    {
     "data": {
      "text/plain": "[(17, 2),\n (1429, 2),\n (1609, 2),\n (844, 2),\n (126, 2),\n (17, 2),\n (1472, 2),\n (1383, 2),\n (591, 2),\n (112, 2)]"
     },
     "execution_count": 55,
     "metadata": {},
     "output_type": "execute_result"
    }
   ],
   "source": [
    "[age_gender[i].shape for i in range(len(age_gender))]"
   ],
   "metadata": {
    "collapsed": false,
    "pycharm": {
     "name": "#%%\n"
    }
   }
  },
  {
   "cell_type": "code",
   "execution_count": 69,
   "outputs": [
    {
     "data": {
      "text/plain": "                  bt__rbc_hyper_%  bt__luc_%  bt__platelet_large_cell_ratio  \\\nRegistrationCode                                                              \n10K_1118741432                NaN        NaN                            NaN   \n10K_2086246041                0.0        0.0                            NaN   \n10K_2741177793                0.3        1.9                            NaN   \n10K_2945550451                NaN        0.0                            NaN   \n10K_3774163126                NaN        NaN                            NaN   \n...                           ...        ...                            ...   \n10K_2518395218                NaN        NaN                            NaN   \n10K_2575184963                NaN        NaN                            NaN   \n10K_2596779247                NaN        NaN                            NaN   \n10K_2659784080                NaN        NaN                            NaN   \n10K_2665484538                NaN        NaN                            NaN   \n\n                  bt__magnesium  bt__non_hdl_cholesterol  bt__neutrophils_%  \\\nRegistrationCode                                                              \n10K_1118741432              NaN                    136.0               44.9   \n10K_2086246041              NaN                     98.0               71.5   \n10K_2741177793              NaN                    108.0               50.7   \n10K_2945550451              NaN                      NaN               33.7   \n10K_3774163126              NaN                     78.0               58.8   \n...                         ...                      ...                ...   \n10K_2518395218              NaN                      NaN                NaN   \n10K_2575184963              NaN                      NaN                NaN   \n10K_2596779247              NaN                      NaN                NaN   \n10K_2659784080              NaN                      NaN                NaN   \n10K_2665484538              NaN                      NaN                NaN   \n\n                  bt__bilirubin_direct  urine__sg  \\\nRegistrationCode                                    \n10K_1118741432                     NaN        NaN   \n10K_2086246041                     NaN      1.015   \n10K_2741177793                    0.14      1.030   \n10K_2945550451                    0.09        NaN   \n10K_3774163126                     NaN        NaN   \n...                                ...        ...   \n10K_2518395218                     NaN        NaN   \n10K_2575184963                     NaN        NaN   \n10K_2596779247                     NaN        NaN   \n10K_2659784080                     NaN        NaN   \n10K_2665484538                     NaN        NaN   \n\n                  urine__albumin_creatinine_ratio  bt__egfr  ...  \\\nRegistrationCode                                             ...   \n10K_1118741432                                NaN     111.0  ...   \n10K_2086246041                                NaN       NaN  ...   \n10K_2741177793                                NaN       NaN  ...   \n10K_2945550451                                NaN       NaN  ...   \n10K_3774163126                                NaN       NaN  ...   \n...                                           ...       ...  ...   \n10K_2518395218                                NaN       NaN  ...   \n10K_2575184963                                NaN       NaN  ...   \n10K_2596779247                                NaN       NaN  ...   \n10K_2659784080                                NaN       NaN  ...   \n10K_2665484538                                NaN       NaN  ...   \n\n                  fBin__86|gBin__420|sBin__610  fBin__86|gBin__422|sBin__613  \\\nRegistrationCode                                                               \n10K_1118741432                             NaN                           NaN   \n10K_2086246041                             NaN                           NaN   \n10K_2741177793                             NaN                           NaN   \n10K_2945550451                             NaN                           NaN   \n10K_3774163126                             NaN                           NaN   \n...                                        ...                           ...   \n10K_2518395218                       -2.917774                     -3.865264   \n10K_2575184963                       -2.059165                     -3.102189   \n10K_2596779247                       -2.573421                     -3.825494   \n10K_2659784080                       -4.000000                     -4.000000   \n10K_2665484538                       -2.790513                     -3.653313   \n\n                  fBin__86|gBin__422|sBin__614  fBin__86|gBin__422|sBin__616  \\\nRegistrationCode                                                               \n10K_1118741432                             NaN                           NaN   \n10K_2086246041                             NaN                           NaN   \n10K_2741177793                             NaN                           NaN   \n10K_2945550451                             NaN                           NaN   \n10K_3774163126                             NaN                           NaN   \n...                                        ...                           ...   \n10K_2518395218                       -2.070325                     -2.618369   \n10K_2575184963                       -1.463304                     -4.000000   \n10K_2596779247                       -2.043256                     -2.787571   \n10K_2659784080                       -1.766028                     -3.359319   \n10K_2665484538                       -2.276776                     -4.000000   \n\n                  fBin__86|gBin__423|sBin__618  fBin__86|gBin__423|sBin__620  \\\nRegistrationCode                                                               \n10K_1118741432                             NaN                           NaN   \n10K_2086246041                             NaN                           NaN   \n10K_2741177793                             NaN                           NaN   \n10K_2945550451                             NaN                           NaN   \n10K_3774163126                             NaN                           NaN   \n...                                        ...                           ...   \n10K_2518395218                       -2.470084                     -3.404929   \n10K_2575184963                       -4.000000                     -2.717190   \n10K_2596779247                       -3.572744                     -3.655945   \n10K_2659784080                       -3.286561                     -3.285578   \n10K_2665484538                       -2.726540                     -4.000000   \n\n                  fBin__86|gBin__429|sBin__631  fBin__88|gBin__434|sBin__637  \\\nRegistrationCode                                                               \n10K_1118741432                             NaN                           NaN   \n10K_2086246041                             NaN                           NaN   \n10K_2741177793                             NaN                           NaN   \n10K_2945550451                             NaN                           NaN   \n10K_3774163126                             NaN                           NaN   \n...                                        ...                           ...   \n10K_2518395218                            -4.0                     -3.446189   \n10K_2575184963                            -4.0                     -4.000000   \n10K_2596779247                            -4.0                     -4.000000   \n10K_2659784080                            -4.0                     -4.000000   \n10K_2665484538                            -4.0                     -4.000000   \n\n                  fBin__94|gBin__448|sBin__654  fBin__97|gBin__462|sBin__678  \nRegistrationCode                                                              \n10K_1118741432                             NaN                           NaN  \n10K_2086246041                             NaN                           NaN  \n10K_2741177793                             NaN                           NaN  \n10K_2945550451                             NaN                           NaN  \n10K_3774163126                             NaN                           NaN  \n...                                        ...                           ...  \n10K_2518395218                       -4.000000                          -4.0  \n10K_2575184963                       -4.000000                          -4.0  \n10K_2596779247                       -3.183509                          -4.0  \n10K_2659784080                       -4.000000                          -4.0  \n10K_2665484538                       -4.000000                          -4.0  \n\n[388 rows x 424 columns]",
      "text/html": "<div>\n<style scoped>\n    .dataframe tbody tr th:only-of-type {\n        vertical-align: middle;\n    }\n\n    .dataframe tbody tr th {\n        vertical-align: top;\n    }\n\n    .dataframe thead th {\n        text-align: right;\n    }\n</style>\n<table border=\"1\" class=\"dataframe\">\n  <thead>\n    <tr style=\"text-align: right;\">\n      <th></th>\n      <th>bt__rbc_hyper_%</th>\n      <th>bt__luc_%</th>\n      <th>bt__platelet_large_cell_ratio</th>\n      <th>bt__magnesium</th>\n      <th>bt__non_hdl_cholesterol</th>\n      <th>bt__neutrophils_%</th>\n      <th>bt__bilirubin_direct</th>\n      <th>urine__sg</th>\n      <th>urine__albumin_creatinine_ratio</th>\n      <th>bt__egfr</th>\n      <th>...</th>\n      <th>fBin__86|gBin__420|sBin__610</th>\n      <th>fBin__86|gBin__422|sBin__613</th>\n      <th>fBin__86|gBin__422|sBin__614</th>\n      <th>fBin__86|gBin__422|sBin__616</th>\n      <th>fBin__86|gBin__423|sBin__618</th>\n      <th>fBin__86|gBin__423|sBin__620</th>\n      <th>fBin__86|gBin__429|sBin__631</th>\n      <th>fBin__88|gBin__434|sBin__637</th>\n      <th>fBin__94|gBin__448|sBin__654</th>\n      <th>fBin__97|gBin__462|sBin__678</th>\n    </tr>\n    <tr>\n      <th>RegistrationCode</th>\n      <th></th>\n      <th></th>\n      <th></th>\n      <th></th>\n      <th></th>\n      <th></th>\n      <th></th>\n      <th></th>\n      <th></th>\n      <th></th>\n      <th></th>\n      <th></th>\n      <th></th>\n      <th></th>\n      <th></th>\n      <th></th>\n      <th></th>\n      <th></th>\n      <th></th>\n      <th></th>\n      <th></th>\n    </tr>\n  </thead>\n  <tbody>\n    <tr>\n      <th>10K_1118741432</th>\n      <td>NaN</td>\n      <td>NaN</td>\n      <td>NaN</td>\n      <td>NaN</td>\n      <td>136.0</td>\n      <td>44.9</td>\n      <td>NaN</td>\n      <td>NaN</td>\n      <td>NaN</td>\n      <td>111.0</td>\n      <td>...</td>\n      <td>NaN</td>\n      <td>NaN</td>\n      <td>NaN</td>\n      <td>NaN</td>\n      <td>NaN</td>\n      <td>NaN</td>\n      <td>NaN</td>\n      <td>NaN</td>\n      <td>NaN</td>\n      <td>NaN</td>\n    </tr>\n    <tr>\n      <th>10K_2086246041</th>\n      <td>0.0</td>\n      <td>0.0</td>\n      <td>NaN</td>\n      <td>NaN</td>\n      <td>98.0</td>\n      <td>71.5</td>\n      <td>NaN</td>\n      <td>1.015</td>\n      <td>NaN</td>\n      <td>NaN</td>\n      <td>...</td>\n      <td>NaN</td>\n      <td>NaN</td>\n      <td>NaN</td>\n      <td>NaN</td>\n      <td>NaN</td>\n      <td>NaN</td>\n      <td>NaN</td>\n      <td>NaN</td>\n      <td>NaN</td>\n      <td>NaN</td>\n    </tr>\n    <tr>\n      <th>10K_2741177793</th>\n      <td>0.3</td>\n      <td>1.9</td>\n      <td>NaN</td>\n      <td>NaN</td>\n      <td>108.0</td>\n      <td>50.7</td>\n      <td>0.14</td>\n      <td>1.030</td>\n      <td>NaN</td>\n      <td>NaN</td>\n      <td>...</td>\n      <td>NaN</td>\n      <td>NaN</td>\n      <td>NaN</td>\n      <td>NaN</td>\n      <td>NaN</td>\n      <td>NaN</td>\n      <td>NaN</td>\n      <td>NaN</td>\n      <td>NaN</td>\n      <td>NaN</td>\n    </tr>\n    <tr>\n      <th>10K_2945550451</th>\n      <td>NaN</td>\n      <td>0.0</td>\n      <td>NaN</td>\n      <td>NaN</td>\n      <td>NaN</td>\n      <td>33.7</td>\n      <td>0.09</td>\n      <td>NaN</td>\n      <td>NaN</td>\n      <td>NaN</td>\n      <td>...</td>\n      <td>NaN</td>\n      <td>NaN</td>\n      <td>NaN</td>\n      <td>NaN</td>\n      <td>NaN</td>\n      <td>NaN</td>\n      <td>NaN</td>\n      <td>NaN</td>\n      <td>NaN</td>\n      <td>NaN</td>\n    </tr>\n    <tr>\n      <th>10K_3774163126</th>\n      <td>NaN</td>\n      <td>NaN</td>\n      <td>NaN</td>\n      <td>NaN</td>\n      <td>78.0</td>\n      <td>58.8</td>\n      <td>NaN</td>\n      <td>NaN</td>\n      <td>NaN</td>\n      <td>NaN</td>\n      <td>...</td>\n      <td>NaN</td>\n      <td>NaN</td>\n      <td>NaN</td>\n      <td>NaN</td>\n      <td>NaN</td>\n      <td>NaN</td>\n      <td>NaN</td>\n      <td>NaN</td>\n      <td>NaN</td>\n      <td>NaN</td>\n    </tr>\n    <tr>\n      <th>...</th>\n      <td>...</td>\n      <td>...</td>\n      <td>...</td>\n      <td>...</td>\n      <td>...</td>\n      <td>...</td>\n      <td>...</td>\n      <td>...</td>\n      <td>...</td>\n      <td>...</td>\n      <td>...</td>\n      <td>...</td>\n      <td>...</td>\n      <td>...</td>\n      <td>...</td>\n      <td>...</td>\n      <td>...</td>\n      <td>...</td>\n      <td>...</td>\n      <td>...</td>\n      <td>...</td>\n    </tr>\n    <tr>\n      <th>10K_2518395218</th>\n      <td>NaN</td>\n      <td>NaN</td>\n      <td>NaN</td>\n      <td>NaN</td>\n      <td>NaN</td>\n      <td>NaN</td>\n      <td>NaN</td>\n      <td>NaN</td>\n      <td>NaN</td>\n      <td>NaN</td>\n      <td>...</td>\n      <td>-2.917774</td>\n      <td>-3.865264</td>\n      <td>-2.070325</td>\n      <td>-2.618369</td>\n      <td>-2.470084</td>\n      <td>-3.404929</td>\n      <td>-4.0</td>\n      <td>-3.446189</td>\n      <td>-4.000000</td>\n      <td>-4.0</td>\n    </tr>\n    <tr>\n      <th>10K_2575184963</th>\n      <td>NaN</td>\n      <td>NaN</td>\n      <td>NaN</td>\n      <td>NaN</td>\n      <td>NaN</td>\n      <td>NaN</td>\n      <td>NaN</td>\n      <td>NaN</td>\n      <td>NaN</td>\n      <td>NaN</td>\n      <td>...</td>\n      <td>-2.059165</td>\n      <td>-3.102189</td>\n      <td>-1.463304</td>\n      <td>-4.000000</td>\n      <td>-4.000000</td>\n      <td>-2.717190</td>\n      <td>-4.0</td>\n      <td>-4.000000</td>\n      <td>-4.000000</td>\n      <td>-4.0</td>\n    </tr>\n    <tr>\n      <th>10K_2596779247</th>\n      <td>NaN</td>\n      <td>NaN</td>\n      <td>NaN</td>\n      <td>NaN</td>\n      <td>NaN</td>\n      <td>NaN</td>\n      <td>NaN</td>\n      <td>NaN</td>\n      <td>NaN</td>\n      <td>NaN</td>\n      <td>...</td>\n      <td>-2.573421</td>\n      <td>-3.825494</td>\n      <td>-2.043256</td>\n      <td>-2.787571</td>\n      <td>-3.572744</td>\n      <td>-3.655945</td>\n      <td>-4.0</td>\n      <td>-4.000000</td>\n      <td>-3.183509</td>\n      <td>-4.0</td>\n    </tr>\n    <tr>\n      <th>10K_2659784080</th>\n      <td>NaN</td>\n      <td>NaN</td>\n      <td>NaN</td>\n      <td>NaN</td>\n      <td>NaN</td>\n      <td>NaN</td>\n      <td>NaN</td>\n      <td>NaN</td>\n      <td>NaN</td>\n      <td>NaN</td>\n      <td>...</td>\n      <td>-4.000000</td>\n      <td>-4.000000</td>\n      <td>-1.766028</td>\n      <td>-3.359319</td>\n      <td>-3.286561</td>\n      <td>-3.285578</td>\n      <td>-4.0</td>\n      <td>-4.000000</td>\n      <td>-4.000000</td>\n      <td>-4.0</td>\n    </tr>\n    <tr>\n      <th>10K_2665484538</th>\n      <td>NaN</td>\n      <td>NaN</td>\n      <td>NaN</td>\n      <td>NaN</td>\n      <td>NaN</td>\n      <td>NaN</td>\n      <td>NaN</td>\n      <td>NaN</td>\n      <td>NaN</td>\n      <td>NaN</td>\n      <td>...</td>\n      <td>-2.790513</td>\n      <td>-3.653313</td>\n      <td>-2.276776</td>\n      <td>-4.000000</td>\n      <td>-2.726540</td>\n      <td>-4.000000</td>\n      <td>-4.0</td>\n      <td>-4.000000</td>\n      <td>-4.000000</td>\n      <td>-4.0</td>\n    </tr>\n  </tbody>\n</table>\n<p>388 rows × 424 columns</p>\n</div>"
     },
     "execution_count": 69,
     "metadata": {},
     "output_type": "execute_result"
    }
   ],
   "source": [
    "n_pairs = 10\n",
    "x = pd.DataFrame()\n",
    "for i in range(len(age_gender)):\n",
    "    participants = age_gender[i].index.to_list()\n",
    "    if len(participants) > 20:\n",
    "        participants = participants[0:20]\n",
    "    x = pd.concat([x, btdf.loc[participants], gmbdf.loc[participants]], axis=0)\n",
    "    # np.concatenate((btdf.loc[participants], gmbdf.loc[participants])), axis=1)\n",
    "x"
   ],
   "metadata": {
    "collapsed": false,
    "pycharm": {
     "name": "#%%\n"
    }
   }
  },
  {
   "cell_type": "code",
   "execution_count": 5,
   "outputs": [],
   "source": [
    "tbd = btdf[:1000]\n",
    "tgmb = gmbdf[:1000]\n"
   ],
   "metadata": {
    "collapsed": false,
    "pycharm": {
     "name": "#%%\n"
    }
   }
  },
  {
   "cell_type": "code",
   "execution_count": 6,
   "outputs": [],
   "source": [
    "gmbbt = tgmb.merge(tbd, how='cross')"
   ],
   "metadata": {
    "collapsed": false,
    "pycharm": {
     "name": "#%%\n"
    }
   }
  },
  {
   "cell_type": "code",
   "execution_count": 7,
   "outputs": [
    {
     "data": {
      "text/plain": "        fBin__100|gBin__474|sBin__695  fBin__100|gBin__477|sBin__698  \\\n0                           -4.000000                      -4.000000   \n1                           -4.000000                      -4.000000   \n2                           -4.000000                      -4.000000   \n3                           -4.000000                      -4.000000   \n4                           -4.000000                      -4.000000   \n...                               ...                            ...   \n999995                      -1.828896                      -2.559006   \n999996                      -1.828896                      -2.559006   \n999997                      -1.828896                      -2.559006   \n999998                      -1.828896                      -2.559006   \n999999                      -1.828896                      -2.559006   \n\n        fBin__100|gBin__483|sBin__709  fBin__102|gBin__490|sBin__721  \\\n0                                -4.0                      -2.686309   \n1                                -4.0                      -2.686309   \n2                                -4.0                      -2.686309   \n3                                -4.0                      -2.686309   \n4                                -4.0                      -2.686309   \n...                               ...                            ...   \n999995                           -4.0                      -2.903308   \n999996                           -4.0                      -2.903308   \n999997                           -4.0                      -2.903308   \n999998                           -4.0                      -2.903308   \n999999                           -4.0                      -2.903308   \n\n        fBin__104|gBin__493|sBin__730  fBin__104|gBin__494|sBin__731  \\\n0                           -3.574415                      -4.000000   \n1                           -3.574415                      -4.000000   \n2                           -3.574415                      -4.000000   \n3                           -3.574415                      -4.000000   \n4                           -3.574415                      -4.000000   \n...                               ...                            ...   \n999995                      -4.000000                      -3.652095   \n999996                      -4.000000                      -3.652095   \n999997                      -4.000000                      -3.652095   \n999998                      -4.000000                      -3.652095   \n999999                      -4.000000                      -3.652095   \n\n        fBin__104|gBin__498|sBin__736  fBin__108|gBin__515|sBin__767  \\\n0                                -4.0                      -2.032384   \n1                                -4.0                      -2.032384   \n2                                -4.0                      -2.032384   \n3                                -4.0                      -2.032384   \n4                                -4.0                      -2.032384   \n...                               ...                            ...   \n999995                           -4.0                      -4.000000   \n999996                           -4.0                      -4.000000   \n999997                           -4.0                      -4.000000   \n999998                           -4.0                      -4.000000   \n999999                           -4.0                      -4.000000   \n\n        fBin__108|gBin__525|sBin__778  fBin__108|gBin__531|sBin__787  ...  \\\n0                           -4.000000                      -2.669366  ...   \n1                           -4.000000                      -2.669366  ...   \n2                           -4.000000                      -2.669366  ...   \n3                           -4.000000                      -2.669366  ...   \n4                           -4.000000                      -2.669366  ...   \n...                               ...                            ...  ...   \n999995                      -3.300058                      -4.000000  ...   \n999996                      -3.300058                      -4.000000  ...   \n999997                      -3.300058                      -4.000000  ...   \n999998                      -3.300058                      -4.000000  ...   \n999999                      -3.300058                      -4.000000  ...   \n\n        bt__urea  bt__egfr_estimate  bt__albumin  bt__bilirubin_total  \\\n0          32.00               81.0         4.20                 1.10   \n1          28.42                NaN         4.33                 0.40   \n2          29.00                NaN         4.20                 0.60   \n3            NaN                NaN          NaN                  NaN   \n4          23.59                NaN         4.29                 0.71   \n...          ...                ...          ...                  ...   \n999995     19.00                NaN          NaN                 1.10   \n999996     38.00                NaN         3.95                 0.60   \n999997     40.00                NaN         4.80                 0.60   \n999998     22.00                NaN         3.97                 0.31   \n999999     20.00              102.0          NaN                  NaN   \n\n        bt__lymphocytes_abs  bt__estradiol_e2  urine__glucose  \\\n0                      2.92               NaN             NaN   \n1                      2.40               NaN             NaN   \n2                      1.23               NaN             NaN   \n3                      2.09               NaN             NaN   \n4                      3.10             162.0             NaN   \n...                     ...               ...             ...   \n999995                 2.80               NaN             NaN   \n999996                 2.58               NaN            -1.0   \n999997                 1.99             734.0            -1.0   \n999998                 2.40               NaN             NaN   \n999999                 2.10               NaN             NaN   \n\n        bt__testosterone  bt__protein_total  bt__crp_wide_range  \n0                    NaN               7.00                 NaN  \n1                    NaN               7.14                 NaN  \n2                    NaN               6.80                 NaN  \n3                    NaN                NaN                 NaN  \n4                    NaN               7.21                 NaN  \n...                  ...                ...                 ...  \n999995               NaN                NaN                 NaN  \n999996               NaN               6.85                0.70  \n999997               NaN               7.30                 NaN  \n999998               NaN               7.12                0.33  \n999999               NaN                NaN                 NaN  \n\n[1000000 rows x 424 columns]",
      "text/html": "<div>\n<style scoped>\n    .dataframe tbody tr th:only-of-type {\n        vertical-align: middle;\n    }\n\n    .dataframe tbody tr th {\n        vertical-align: top;\n    }\n\n    .dataframe thead th {\n        text-align: right;\n    }\n</style>\n<table border=\"1\" class=\"dataframe\">\n  <thead>\n    <tr style=\"text-align: right;\">\n      <th></th>\n      <th>fBin__100|gBin__474|sBin__695</th>\n      <th>fBin__100|gBin__477|sBin__698</th>\n      <th>fBin__100|gBin__483|sBin__709</th>\n      <th>fBin__102|gBin__490|sBin__721</th>\n      <th>fBin__104|gBin__493|sBin__730</th>\n      <th>fBin__104|gBin__494|sBin__731</th>\n      <th>fBin__104|gBin__498|sBin__736</th>\n      <th>fBin__108|gBin__515|sBin__767</th>\n      <th>fBin__108|gBin__525|sBin__778</th>\n      <th>fBin__108|gBin__531|sBin__787</th>\n      <th>...</th>\n      <th>bt__urea</th>\n      <th>bt__egfr_estimate</th>\n      <th>bt__albumin</th>\n      <th>bt__bilirubin_total</th>\n      <th>bt__lymphocytes_abs</th>\n      <th>bt__estradiol_e2</th>\n      <th>urine__glucose</th>\n      <th>bt__testosterone</th>\n      <th>bt__protein_total</th>\n      <th>bt__crp_wide_range</th>\n    </tr>\n  </thead>\n  <tbody>\n    <tr>\n      <th>0</th>\n      <td>-4.000000</td>\n      <td>-4.000000</td>\n      <td>-4.0</td>\n      <td>-2.686309</td>\n      <td>-3.574415</td>\n      <td>-4.000000</td>\n      <td>-4.0</td>\n      <td>-2.032384</td>\n      <td>-4.000000</td>\n      <td>-2.669366</td>\n      <td>...</td>\n      <td>32.00</td>\n      <td>81.0</td>\n      <td>4.20</td>\n      <td>1.10</td>\n      <td>2.92</td>\n      <td>NaN</td>\n      <td>NaN</td>\n      <td>NaN</td>\n      <td>7.00</td>\n      <td>NaN</td>\n    </tr>\n    <tr>\n      <th>1</th>\n      <td>-4.000000</td>\n      <td>-4.000000</td>\n      <td>-4.0</td>\n      <td>-2.686309</td>\n      <td>-3.574415</td>\n      <td>-4.000000</td>\n      <td>-4.0</td>\n      <td>-2.032384</td>\n      <td>-4.000000</td>\n      <td>-2.669366</td>\n      <td>...</td>\n      <td>28.42</td>\n      <td>NaN</td>\n      <td>4.33</td>\n      <td>0.40</td>\n      <td>2.40</td>\n      <td>NaN</td>\n      <td>NaN</td>\n      <td>NaN</td>\n      <td>7.14</td>\n      <td>NaN</td>\n    </tr>\n    <tr>\n      <th>2</th>\n      <td>-4.000000</td>\n      <td>-4.000000</td>\n      <td>-4.0</td>\n      <td>-2.686309</td>\n      <td>-3.574415</td>\n      <td>-4.000000</td>\n      <td>-4.0</td>\n      <td>-2.032384</td>\n      <td>-4.000000</td>\n      <td>-2.669366</td>\n      <td>...</td>\n      <td>29.00</td>\n      <td>NaN</td>\n      <td>4.20</td>\n      <td>0.60</td>\n      <td>1.23</td>\n      <td>NaN</td>\n      <td>NaN</td>\n      <td>NaN</td>\n      <td>6.80</td>\n      <td>NaN</td>\n    </tr>\n    <tr>\n      <th>3</th>\n      <td>-4.000000</td>\n      <td>-4.000000</td>\n      <td>-4.0</td>\n      <td>-2.686309</td>\n      <td>-3.574415</td>\n      <td>-4.000000</td>\n      <td>-4.0</td>\n      <td>-2.032384</td>\n      <td>-4.000000</td>\n      <td>-2.669366</td>\n      <td>...</td>\n      <td>NaN</td>\n      <td>NaN</td>\n      <td>NaN</td>\n      <td>NaN</td>\n      <td>2.09</td>\n      <td>NaN</td>\n      <td>NaN</td>\n      <td>NaN</td>\n      <td>NaN</td>\n      <td>NaN</td>\n    </tr>\n    <tr>\n      <th>4</th>\n      <td>-4.000000</td>\n      <td>-4.000000</td>\n      <td>-4.0</td>\n      <td>-2.686309</td>\n      <td>-3.574415</td>\n      <td>-4.000000</td>\n      <td>-4.0</td>\n      <td>-2.032384</td>\n      <td>-4.000000</td>\n      <td>-2.669366</td>\n      <td>...</td>\n      <td>23.59</td>\n      <td>NaN</td>\n      <td>4.29</td>\n      <td>0.71</td>\n      <td>3.10</td>\n      <td>162.0</td>\n      <td>NaN</td>\n      <td>NaN</td>\n      <td>7.21</td>\n      <td>NaN</td>\n    </tr>\n    <tr>\n      <th>...</th>\n      <td>...</td>\n      <td>...</td>\n      <td>...</td>\n      <td>...</td>\n      <td>...</td>\n      <td>...</td>\n      <td>...</td>\n      <td>...</td>\n      <td>...</td>\n      <td>...</td>\n      <td>...</td>\n      <td>...</td>\n      <td>...</td>\n      <td>...</td>\n      <td>...</td>\n      <td>...</td>\n      <td>...</td>\n      <td>...</td>\n      <td>...</td>\n      <td>...</td>\n      <td>...</td>\n    </tr>\n    <tr>\n      <th>999995</th>\n      <td>-1.828896</td>\n      <td>-2.559006</td>\n      <td>-4.0</td>\n      <td>-2.903308</td>\n      <td>-4.000000</td>\n      <td>-3.652095</td>\n      <td>-4.0</td>\n      <td>-4.000000</td>\n      <td>-3.300058</td>\n      <td>-4.000000</td>\n      <td>...</td>\n      <td>19.00</td>\n      <td>NaN</td>\n      <td>NaN</td>\n      <td>1.10</td>\n      <td>2.80</td>\n      <td>NaN</td>\n      <td>NaN</td>\n      <td>NaN</td>\n      <td>NaN</td>\n      <td>NaN</td>\n    </tr>\n    <tr>\n      <th>999996</th>\n      <td>-1.828896</td>\n      <td>-2.559006</td>\n      <td>-4.0</td>\n      <td>-2.903308</td>\n      <td>-4.000000</td>\n      <td>-3.652095</td>\n      <td>-4.0</td>\n      <td>-4.000000</td>\n      <td>-3.300058</td>\n      <td>-4.000000</td>\n      <td>...</td>\n      <td>38.00</td>\n      <td>NaN</td>\n      <td>3.95</td>\n      <td>0.60</td>\n      <td>2.58</td>\n      <td>NaN</td>\n      <td>-1.0</td>\n      <td>NaN</td>\n      <td>6.85</td>\n      <td>0.70</td>\n    </tr>\n    <tr>\n      <th>999997</th>\n      <td>-1.828896</td>\n      <td>-2.559006</td>\n      <td>-4.0</td>\n      <td>-2.903308</td>\n      <td>-4.000000</td>\n      <td>-3.652095</td>\n      <td>-4.0</td>\n      <td>-4.000000</td>\n      <td>-3.300058</td>\n      <td>-4.000000</td>\n      <td>...</td>\n      <td>40.00</td>\n      <td>NaN</td>\n      <td>4.80</td>\n      <td>0.60</td>\n      <td>1.99</td>\n      <td>734.0</td>\n      <td>-1.0</td>\n      <td>NaN</td>\n      <td>7.30</td>\n      <td>NaN</td>\n    </tr>\n    <tr>\n      <th>999998</th>\n      <td>-1.828896</td>\n      <td>-2.559006</td>\n      <td>-4.0</td>\n      <td>-2.903308</td>\n      <td>-4.000000</td>\n      <td>-3.652095</td>\n      <td>-4.0</td>\n      <td>-4.000000</td>\n      <td>-3.300058</td>\n      <td>-4.000000</td>\n      <td>...</td>\n      <td>22.00</td>\n      <td>NaN</td>\n      <td>3.97</td>\n      <td>0.31</td>\n      <td>2.40</td>\n      <td>NaN</td>\n      <td>NaN</td>\n      <td>NaN</td>\n      <td>7.12</td>\n      <td>0.33</td>\n    </tr>\n    <tr>\n      <th>999999</th>\n      <td>-1.828896</td>\n      <td>-2.559006</td>\n      <td>-4.0</td>\n      <td>-2.903308</td>\n      <td>-4.000000</td>\n      <td>-3.652095</td>\n      <td>-4.0</td>\n      <td>-4.000000</td>\n      <td>-3.300058</td>\n      <td>-4.000000</td>\n      <td>...</td>\n      <td>20.00</td>\n      <td>102.0</td>\n      <td>NaN</td>\n      <td>NaN</td>\n      <td>2.10</td>\n      <td>NaN</td>\n      <td>NaN</td>\n      <td>NaN</td>\n      <td>NaN</td>\n      <td>NaN</td>\n    </tr>\n  </tbody>\n</table>\n<p>1000000 rows × 424 columns</p>\n</div>"
     },
     "execution_count": 7,
     "metadata": {},
     "output_type": "execute_result"
    }
   ],
   "source": [
    "gmbbt"
   ],
   "metadata": {
    "collapsed": false,
    "pycharm": {
     "name": "#%%\n"
    }
   }
  },
  {
   "cell_type": "code",
   "execution_count": 33,
   "outputs": [],
   "source": [
    "y = np.eye(len(tbd)).flatten()\n",
    "y = pd.Series(y,name='is_self')\n",
    "x = gmbbt\n",
    "out_dir = os.path.join(cl.PREDICTIONS_PATH, 'ContrasiveTrees')"
   ],
   "metadata": {
    "collapsed": false,
    "pycharm": {
     "name": "#%%\n"
    }
   }
  },
  {
   "cell_type": "code",
   "execution_count": 39,
   "outputs": [
    {
     "name": "stderr",
     "output_type": "stream",
     "text": [
      "Found `num_iterations` in params. Will use it instead of argument\n",
      "Found `early_stopping_round` in params. Will use it instead of argument\n"
     ]
    },
    {
     "name": "stdout",
     "output_type": "stream",
     "text": [
      "[LightGBM] [Warning] lambda_l1 is set=0, reg_alpha=0.0 will be ignored. Current value: lambda_l1=0\n",
      "[LightGBM] [Warning] num_threads is set=2, n_jobs=-1 will be ignored. Current value: num_threads=2\n",
      "[LightGBM] [Warning] bagging_fraction is set=0.7, subsample=1.0 will be ignored. Current value: bagging_fraction=0.7\n",
      "[LightGBM] [Warning] feature_fraction is set=0.2, colsample_bytree=1.0 will be ignored. Current value: feature_fraction=0.2\n",
      "[LightGBM] [Warning] min_data_in_leaf is set=40, min_child_samples=20 will be ignored. Current value: min_data_in_leaf=40\n",
      "[LightGBM] [Warning] bagging_freq is set=1, subsample_freq=0 will be ignored. Current value: bagging_freq=1\n"
     ]
    },
    {
     "name": "stderr",
     "output_type": "stream",
     "text": [
      "Found `num_iterations` in params. Will use it instead of argument\n",
      "Found `early_stopping_round` in params. Will use it instead of argument\n"
     ]
    },
    {
     "name": "stdout",
     "output_type": "stream",
     "text": [
      "[LightGBM] [Warning] lambda_l1 is set=0, reg_alpha=0.0 will be ignored. Current value: lambda_l1=0\n",
      "[LightGBM] [Warning] num_threads is set=2, n_jobs=-1 will be ignored. Current value: num_threads=2\n",
      "[LightGBM] [Warning] bagging_fraction is set=0.7, subsample=1.0 will be ignored. Current value: bagging_fraction=0.7\n",
      "[LightGBM] [Warning] feature_fraction is set=0.2, colsample_bytree=1.0 will be ignored. Current value: feature_fraction=0.2\n",
      "[LightGBM] [Warning] min_data_in_leaf is set=40, min_child_samples=20 will be ignored. Current value: min_data_in_leaf=40\n",
      "[LightGBM] [Warning] bagging_freq is set=1, subsample_freq=0 will be ignored. Current value: bagging_freq=1\n"
     ]
    },
    {
     "name": "stderr",
     "output_type": "stream",
     "text": [
      "Found `num_iterations` in params. Will use it instead of argument\n",
      "Found `early_stopping_round` in params. Will use it instead of argument\n"
     ]
    },
    {
     "name": "stdout",
     "output_type": "stream",
     "text": [
      "[LightGBM] [Warning] lambda_l1 is set=0, reg_alpha=0.0 will be ignored. Current value: lambda_l1=0\n",
      "[LightGBM] [Warning] num_threads is set=2, n_jobs=-1 will be ignored. Current value: num_threads=2\n",
      "[LightGBM] [Warning] bagging_fraction is set=0.7, subsample=1.0 will be ignored. Current value: bagging_fraction=0.7\n",
      "[LightGBM] [Warning] feature_fraction is set=0.2, colsample_bytree=1.0 will be ignored. Current value: feature_fraction=0.2\n",
      "[LightGBM] [Warning] min_data_in_leaf is set=40, min_child_samples=20 will be ignored. Current value: min_data_in_leaf=40\n",
      "[LightGBM] [Warning] bagging_freq is set=1, subsample_freq=0 will be ignored. Current value: bagging_freq=1\n"
     ]
    },
    {
     "name": "stderr",
     "output_type": "stream",
     "text": [
      "Found `num_iterations` in params. Will use it instead of argument\n",
      "Found `early_stopping_round` in params. Will use it instead of argument\n"
     ]
    },
    {
     "name": "stdout",
     "output_type": "stream",
     "text": [
      "[LightGBM] [Warning] lambda_l1 is set=0, reg_alpha=0.0 will be ignored. Current value: lambda_l1=0\n",
      "[LightGBM] [Warning] num_threads is set=2, n_jobs=-1 will be ignored. Current value: num_threads=2\n",
      "[LightGBM] [Warning] bagging_fraction is set=0.7, subsample=1.0 will be ignored. Current value: bagging_fraction=0.7\n",
      "[LightGBM] [Warning] feature_fraction is set=0.2, colsample_bytree=1.0 will be ignored. Current value: feature_fraction=0.2\n",
      "[LightGBM] [Warning] min_data_in_leaf is set=40, min_child_samples=20 will be ignored. Current value: min_data_in_leaf=40\n",
      "[LightGBM] [Warning] bagging_freq is set=1, subsample_freq=0 will be ignored. Current value: bagging_freq=1\n"
     ]
    },
    {
     "name": "stderr",
     "output_type": "stream",
     "text": [
      "Found `num_iterations` in params. Will use it instead of argument\n",
      "Found `early_stopping_round` in params. Will use it instead of argument\n"
     ]
    },
    {
     "name": "stdout",
     "output_type": "stream",
     "text": [
      "[LightGBM] [Warning] lambda_l1 is set=0, reg_alpha=0.0 will be ignored. Current value: lambda_l1=0\n",
      "[LightGBM] [Warning] num_threads is set=2, n_jobs=-1 will be ignored. Current value: num_threads=2\n",
      "[LightGBM] [Warning] bagging_fraction is set=0.7, subsample=1.0 will be ignored. Current value: bagging_fraction=0.7\n",
      "[LightGBM] [Warning] feature_fraction is set=0.2, colsample_bytree=1.0 will be ignored. Current value: feature_fraction=0.2\n",
      "[LightGBM] [Warning] min_data_in_leaf is set=40, min_child_samples=20 will be ignored. Current value: min_data_in_leaf=40\n",
      "[LightGBM] [Warning] bagging_freq is set=1, subsample_freq=0 will be ignored. Current value: bagging_freq=1\n"
     ]
    },
    {
     "name": "stderr",
     "output_type": "stream",
     "text": [
      "Found `num_iterations` in params. Will use it instead of argument\n",
      "Found `early_stopping_round` in params. Will use it instead of argument\n"
     ]
    },
    {
     "name": "stdout",
     "output_type": "stream",
     "text": [
      "[LightGBM] [Warning] lambda_l1 is set=0.01, reg_alpha=0.0 will be ignored. Current value: lambda_l1=0.01\n",
      "[LightGBM] [Warning] num_threads is set=2, n_jobs=-1 will be ignored. Current value: num_threads=2\n",
      "[LightGBM] [Warning] bagging_fraction is set=0.7, subsample=1.0 will be ignored. Current value: bagging_fraction=0.7\n",
      "[LightGBM] [Warning] feature_fraction is set=0.7, colsample_bytree=1.0 will be ignored. Current value: feature_fraction=0.7\n",
      "[LightGBM] [Warning] min_data_in_leaf is set=10, min_child_samples=20 will be ignored. Current value: min_data_in_leaf=10\n",
      "[LightGBM] [Warning] bagging_freq is set=1, subsample_freq=0 will be ignored. Current value: bagging_freq=1\n"
     ]
    },
    {
     "name": "stderr",
     "output_type": "stream",
     "text": [
      "Found `num_iterations` in params. Will use it instead of argument\n",
      "Found `early_stopping_round` in params. Will use it instead of argument\n"
     ]
    },
    {
     "name": "stdout",
     "output_type": "stream",
     "text": [
      "[LightGBM] [Warning] lambda_l1 is set=0.01, reg_alpha=0.0 will be ignored. Current value: lambda_l1=0.01\n",
      "[LightGBM] [Warning] num_threads is set=2, n_jobs=-1 will be ignored. Current value: num_threads=2\n",
      "[LightGBM] [Warning] bagging_fraction is set=0.7, subsample=1.0 will be ignored. Current value: bagging_fraction=0.7\n",
      "[LightGBM] [Warning] feature_fraction is set=0.7, colsample_bytree=1.0 will be ignored. Current value: feature_fraction=0.7\n",
      "[LightGBM] [Warning] min_data_in_leaf is set=10, min_child_samples=20 will be ignored. Current value: min_data_in_leaf=10\n",
      "[LightGBM] [Warning] bagging_freq is set=1, subsample_freq=0 will be ignored. Current value: bagging_freq=1\n"
     ]
    },
    {
     "name": "stderr",
     "output_type": "stream",
     "text": [
      "Found `num_iterations` in params. Will use it instead of argument\n",
      "Found `early_stopping_round` in params. Will use it instead of argument\n"
     ]
    },
    {
     "name": "stdout",
     "output_type": "stream",
     "text": [
      "[LightGBM] [Warning] lambda_l1 is set=0.01, reg_alpha=0.0 will be ignored. Current value: lambda_l1=0.01\n",
      "[LightGBM] [Warning] num_threads is set=2, n_jobs=-1 will be ignored. Current value: num_threads=2\n",
      "[LightGBM] [Warning] bagging_fraction is set=0.7, subsample=1.0 will be ignored. Current value: bagging_fraction=0.7\n",
      "[LightGBM] [Warning] feature_fraction is set=0.7, colsample_bytree=1.0 will be ignored. Current value: feature_fraction=0.7\n",
      "[LightGBM] [Warning] min_data_in_leaf is set=10, min_child_samples=20 will be ignored. Current value: min_data_in_leaf=10\n",
      "[LightGBM] [Warning] bagging_freq is set=1, subsample_freq=0 will be ignored. Current value: bagging_freq=1\n"
     ]
    },
    {
     "name": "stderr",
     "output_type": "stream",
     "text": [
      "Found `num_iterations` in params. Will use it instead of argument\n",
      "Found `early_stopping_round` in params. Will use it instead of argument\n"
     ]
    },
    {
     "name": "stdout",
     "output_type": "stream",
     "text": [
      "[LightGBM] [Warning] lambda_l1 is set=0.01, reg_alpha=0.0 will be ignored. Current value: lambda_l1=0.01\n",
      "[LightGBM] [Warning] num_threads is set=2, n_jobs=-1 will be ignored. Current value: num_threads=2\n",
      "[LightGBM] [Warning] bagging_fraction is set=0.7, subsample=1.0 will be ignored. Current value: bagging_fraction=0.7\n",
      "[LightGBM] [Warning] feature_fraction is set=0.7, colsample_bytree=1.0 will be ignored. Current value: feature_fraction=0.7\n",
      "[LightGBM] [Warning] min_data_in_leaf is set=10, min_child_samples=20 will be ignored. Current value: min_data_in_leaf=10\n",
      "[LightGBM] [Warning] bagging_freq is set=1, subsample_freq=0 will be ignored. Current value: bagging_freq=1\n"
     ]
    },
    {
     "name": "stderr",
     "output_type": "stream",
     "text": [
      "Found `num_iterations` in params. Will use it instead of argument\n",
      "Found `early_stopping_round` in params. Will use it instead of argument\n"
     ]
    },
    {
     "name": "stdout",
     "output_type": "stream",
     "text": [
      "[LightGBM] [Warning] lambda_l1 is set=0.01, reg_alpha=0.0 will be ignored. Current value: lambda_l1=0.01\n",
      "[LightGBM] [Warning] num_threads is set=2, n_jobs=-1 will be ignored. Current value: num_threads=2\n",
      "[LightGBM] [Warning] bagging_fraction is set=0.7, subsample=1.0 will be ignored. Current value: bagging_fraction=0.7\n",
      "[LightGBM] [Warning] feature_fraction is set=0.7, colsample_bytree=1.0 will be ignored. Current value: feature_fraction=0.7\n",
      "[LightGBM] [Warning] min_data_in_leaf is set=10, min_child_samples=20 will be ignored. Current value: min_data_in_leaf=10\n",
      "[LightGBM] [Warning] bagging_freq is set=1, subsample_freq=0 will be ignored. Current value: bagging_freq=1\n"
     ]
    },
    {
     "name": "stderr",
     "output_type": "stream",
     "text": [
      "Found `num_iterations` in params. Will use it instead of argument\n",
      "Found `early_stopping_round` in params. Will use it instead of argument\n"
     ]
    },
    {
     "name": "stdout",
     "output_type": "stream",
     "text": [
      "[LightGBM] [Warning] lambda_l1 is set=0.005, reg_alpha=0.0 will be ignored. Current value: lambda_l1=0.005\n",
      "[LightGBM] [Warning] num_threads is set=2, n_jobs=-1 will be ignored. Current value: num_threads=2\n",
      "[LightGBM] [Warning] bagging_fraction is set=0.8, subsample=1.0 will be ignored. Current value: bagging_fraction=0.8\n",
      "[LightGBM] [Warning] feature_fraction is set=0.6, colsample_bytree=1.0 will be ignored. Current value: feature_fraction=0.6\n",
      "[LightGBM] [Warning] min_data_in_leaf is set=95, min_child_samples=20 will be ignored. Current value: min_data_in_leaf=95\n",
      "[LightGBM] [Warning] bagging_freq is set=1, subsample_freq=0 will be ignored. Current value: bagging_freq=1\n"
     ]
    },
    {
     "name": "stderr",
     "output_type": "stream",
     "text": [
      "Found `num_iterations` in params. Will use it instead of argument\n",
      "Found `early_stopping_round` in params. Will use it instead of argument\n"
     ]
    },
    {
     "name": "stdout",
     "output_type": "stream",
     "text": [
      "[LightGBM] [Warning] lambda_l1 is set=0.005, reg_alpha=0.0 will be ignored. Current value: lambda_l1=0.005\n",
      "[LightGBM] [Warning] num_threads is set=2, n_jobs=-1 will be ignored. Current value: num_threads=2\n",
      "[LightGBM] [Warning] bagging_fraction is set=0.8, subsample=1.0 will be ignored. Current value: bagging_fraction=0.8\n",
      "[LightGBM] [Warning] feature_fraction is set=0.6, colsample_bytree=1.0 will be ignored. Current value: feature_fraction=0.6\n",
      "[LightGBM] [Warning] min_data_in_leaf is set=95, min_child_samples=20 will be ignored. Current value: min_data_in_leaf=95\n",
      "[LightGBM] [Warning] bagging_freq is set=1, subsample_freq=0 will be ignored. Current value: bagging_freq=1\n"
     ]
    },
    {
     "name": "stderr",
     "output_type": "stream",
     "text": [
      "Found `num_iterations` in params. Will use it instead of argument\n",
      "Found `early_stopping_round` in params. Will use it instead of argument\n"
     ]
    },
    {
     "name": "stdout",
     "output_type": "stream",
     "text": [
      "[LightGBM] [Warning] lambda_l1 is set=0.005, reg_alpha=0.0 will be ignored. Current value: lambda_l1=0.005\n",
      "[LightGBM] [Warning] num_threads is set=2, n_jobs=-1 will be ignored. Current value: num_threads=2\n",
      "[LightGBM] [Warning] bagging_fraction is set=0.8, subsample=1.0 will be ignored. Current value: bagging_fraction=0.8\n",
      "[LightGBM] [Warning] feature_fraction is set=0.6, colsample_bytree=1.0 will be ignored. Current value: feature_fraction=0.6\n",
      "[LightGBM] [Warning] min_data_in_leaf is set=95, min_child_samples=20 will be ignored. Current value: min_data_in_leaf=95\n",
      "[LightGBM] [Warning] bagging_freq is set=1, subsample_freq=0 will be ignored. Current value: bagging_freq=1\n"
     ]
    },
    {
     "name": "stderr",
     "output_type": "stream",
     "text": [
      "Found `num_iterations` in params. Will use it instead of argument\n",
      "Found `early_stopping_round` in params. Will use it instead of argument\n"
     ]
    },
    {
     "name": "stdout",
     "output_type": "stream",
     "text": [
      "[LightGBM] [Warning] lambda_l1 is set=0.005, reg_alpha=0.0 will be ignored. Current value: lambda_l1=0.005\n",
      "[LightGBM] [Warning] num_threads is set=2, n_jobs=-1 will be ignored. Current value: num_threads=2\n",
      "[LightGBM] [Warning] bagging_fraction is set=0.8, subsample=1.0 will be ignored. Current value: bagging_fraction=0.8\n",
      "[LightGBM] [Warning] feature_fraction is set=0.6, colsample_bytree=1.0 will be ignored. Current value: feature_fraction=0.6\n",
      "[LightGBM] [Warning] min_data_in_leaf is set=95, min_child_samples=20 will be ignored. Current value: min_data_in_leaf=95\n",
      "[LightGBM] [Warning] bagging_freq is set=1, subsample_freq=0 will be ignored. Current value: bagging_freq=1\n"
     ]
    },
    {
     "name": "stderr",
     "output_type": "stream",
     "text": [
      "Found `num_iterations` in params. Will use it instead of argument\n",
      "Found `early_stopping_round` in params. Will use it instead of argument\n"
     ]
    },
    {
     "name": "stdout",
     "output_type": "stream",
     "text": [
      "[LightGBM] [Warning] lambda_l1 is set=0.005, reg_alpha=0.0 will be ignored. Current value: lambda_l1=0.005\n",
      "[LightGBM] [Warning] num_threads is set=2, n_jobs=-1 will be ignored. Current value: num_threads=2\n",
      "[LightGBM] [Warning] bagging_fraction is set=0.8, subsample=1.0 will be ignored. Current value: bagging_fraction=0.8\n",
      "[LightGBM] [Warning] feature_fraction is set=0.6, colsample_bytree=1.0 will be ignored. Current value: feature_fraction=0.6\n",
      "[LightGBM] [Warning] min_data_in_leaf is set=95, min_child_samples=20 will be ignored. Current value: min_data_in_leaf=95\n",
      "[LightGBM] [Warning] bagging_freq is set=1, subsample_freq=0 will be ignored. Current value: bagging_freq=1\n"
     ]
    },
    {
     "name": "stderr",
     "output_type": "stream",
     "text": [
      "Found `num_iterations` in params. Will use it instead of argument\n",
      "Found `early_stopping_round` in params. Will use it instead of argument\n"
     ]
    },
    {
     "name": "stdout",
     "output_type": "stream",
     "text": [
      "[LightGBM] [Warning] lambda_l1 is set=0.01, reg_alpha=0.0 will be ignored. Current value: lambda_l1=0.01\n",
      "[LightGBM] [Warning] num_threads is set=2, n_jobs=-1 will be ignored. Current value: num_threads=2\n",
      "[LightGBM] [Warning] bagging_fraction is set=0.4, subsample=1.0 will be ignored. Current value: bagging_fraction=0.4\n",
      "[LightGBM] [Warning] feature_fraction is set=0.7, colsample_bytree=1.0 will be ignored. Current value: feature_fraction=0.7\n",
      "[LightGBM] [Warning] min_data_in_leaf is set=80, min_child_samples=20 will be ignored. Current value: min_data_in_leaf=80\n",
      "[LightGBM] [Warning] bagging_freq is set=1, subsample_freq=0 will be ignored. Current value: bagging_freq=1\n"
     ]
    },
    {
     "name": "stderr",
     "output_type": "stream",
     "text": [
      "Found `num_iterations` in params. Will use it instead of argument\n",
      "Found `early_stopping_round` in params. Will use it instead of argument\n"
     ]
    },
    {
     "name": "stdout",
     "output_type": "stream",
     "text": [
      "[LightGBM] [Warning] lambda_l1 is set=0.01, reg_alpha=0.0 will be ignored. Current value: lambda_l1=0.01\n",
      "[LightGBM] [Warning] num_threads is set=2, n_jobs=-1 will be ignored. Current value: num_threads=2\n",
      "[LightGBM] [Warning] bagging_fraction is set=0.4, subsample=1.0 will be ignored. Current value: bagging_fraction=0.4\n",
      "[LightGBM] [Warning] feature_fraction is set=0.7, colsample_bytree=1.0 will be ignored. Current value: feature_fraction=0.7\n",
      "[LightGBM] [Warning] min_data_in_leaf is set=80, min_child_samples=20 will be ignored. Current value: min_data_in_leaf=80\n",
      "[LightGBM] [Warning] bagging_freq is set=1, subsample_freq=0 will be ignored. Current value: bagging_freq=1\n"
     ]
    },
    {
     "name": "stderr",
     "output_type": "stream",
     "text": [
      "Found `num_iterations` in params. Will use it instead of argument\n",
      "Found `early_stopping_round` in params. Will use it instead of argument\n"
     ]
    },
    {
     "name": "stdout",
     "output_type": "stream",
     "text": [
      "[LightGBM] [Warning] lambda_l1 is set=0.01, reg_alpha=0.0 will be ignored. Current value: lambda_l1=0.01\n",
      "[LightGBM] [Warning] num_threads is set=2, n_jobs=-1 will be ignored. Current value: num_threads=2\n",
      "[LightGBM] [Warning] bagging_fraction is set=0.4, subsample=1.0 will be ignored. Current value: bagging_fraction=0.4\n",
      "[LightGBM] [Warning] feature_fraction is set=0.7, colsample_bytree=1.0 will be ignored. Current value: feature_fraction=0.7\n",
      "[LightGBM] [Warning] min_data_in_leaf is set=80, min_child_samples=20 will be ignored. Current value: min_data_in_leaf=80\n",
      "[LightGBM] [Warning] bagging_freq is set=1, subsample_freq=0 will be ignored. Current value: bagging_freq=1\n"
     ]
    },
    {
     "name": "stderr",
     "output_type": "stream",
     "text": [
      "Found `num_iterations` in params. Will use it instead of argument\n",
      "Found `early_stopping_round` in params. Will use it instead of argument\n"
     ]
    },
    {
     "name": "stdout",
     "output_type": "stream",
     "text": [
      "[LightGBM] [Warning] lambda_l1 is set=0.01, reg_alpha=0.0 will be ignored. Current value: lambda_l1=0.01\n",
      "[LightGBM] [Warning] num_threads is set=2, n_jobs=-1 will be ignored. Current value: num_threads=2\n",
      "[LightGBM] [Warning] bagging_fraction is set=0.4, subsample=1.0 will be ignored. Current value: bagging_fraction=0.4\n",
      "[LightGBM] [Warning] feature_fraction is set=0.7, colsample_bytree=1.0 will be ignored. Current value: feature_fraction=0.7\n",
      "[LightGBM] [Warning] min_data_in_leaf is set=80, min_child_samples=20 will be ignored. Current value: min_data_in_leaf=80\n",
      "[LightGBM] [Warning] bagging_freq is set=1, subsample_freq=0 will be ignored. Current value: bagging_freq=1\n"
     ]
    },
    {
     "name": "stderr",
     "output_type": "stream",
     "text": [
      "Found `num_iterations` in params. Will use it instead of argument\n",
      "Found `early_stopping_round` in params. Will use it instead of argument\n"
     ]
    },
    {
     "name": "stdout",
     "output_type": "stream",
     "text": [
      "[LightGBM] [Warning] lambda_l1 is set=0.01, reg_alpha=0.0 will be ignored. Current value: lambda_l1=0.01\n",
      "[LightGBM] [Warning] num_threads is set=2, n_jobs=-1 will be ignored. Current value: num_threads=2\n",
      "[LightGBM] [Warning] bagging_fraction is set=0.4, subsample=1.0 will be ignored. Current value: bagging_fraction=0.4\n",
      "[LightGBM] [Warning] feature_fraction is set=0.7, colsample_bytree=1.0 will be ignored. Current value: feature_fraction=0.7\n",
      "[LightGBM] [Warning] min_data_in_leaf is set=80, min_child_samples=20 will be ignored. Current value: min_data_in_leaf=80\n",
      "[LightGBM] [Warning] bagging_freq is set=1, subsample_freq=0 will be ignored. Current value: bagging_freq=1\n"
     ]
    },
    {
     "name": "stderr",
     "output_type": "stream",
     "text": [
      "Found `num_iterations` in params. Will use it instead of argument\n",
      "Found `early_stopping_round` in params. Will use it instead of argument\n"
     ]
    },
    {
     "name": "stdout",
     "output_type": "stream",
     "text": [
      "[LightGBM] [Warning] lambda_l1 is set=0.005, reg_alpha=0.0 will be ignored. Current value: lambda_l1=0.005\n",
      "[LightGBM] [Warning] num_threads is set=2, n_jobs=-1 will be ignored. Current value: num_threads=2\n",
      "[LightGBM] [Warning] bagging_fraction is set=0.5, subsample=1.0 will be ignored. Current value: bagging_fraction=0.5\n",
      "[LightGBM] [Warning] feature_fraction is set=0.7, colsample_bytree=1.0 will be ignored. Current value: feature_fraction=0.7\n",
      "[LightGBM] [Warning] min_data_in_leaf is set=45, min_child_samples=20 will be ignored. Current value: min_data_in_leaf=45\n",
      "[LightGBM] [Warning] bagging_freq is set=1, subsample_freq=0 will be ignored. Current value: bagging_freq=1\n"
     ]
    },
    {
     "name": "stderr",
     "output_type": "stream",
     "text": [
      "Found `num_iterations` in params. Will use it instead of argument\n",
      "Found `early_stopping_round` in params. Will use it instead of argument\n"
     ]
    },
    {
     "name": "stdout",
     "output_type": "stream",
     "text": [
      "[LightGBM] [Warning] lambda_l1 is set=0.005, reg_alpha=0.0 will be ignored. Current value: lambda_l1=0.005\n",
      "[LightGBM] [Warning] num_threads is set=2, n_jobs=-1 will be ignored. Current value: num_threads=2\n",
      "[LightGBM] [Warning] bagging_fraction is set=0.5, subsample=1.0 will be ignored. Current value: bagging_fraction=0.5\n",
      "[LightGBM] [Warning] feature_fraction is set=0.7, colsample_bytree=1.0 will be ignored. Current value: feature_fraction=0.7\n",
      "[LightGBM] [Warning] min_data_in_leaf is set=45, min_child_samples=20 will be ignored. Current value: min_data_in_leaf=45\n",
      "[LightGBM] [Warning] bagging_freq is set=1, subsample_freq=0 will be ignored. Current value: bagging_freq=1\n"
     ]
    },
    {
     "name": "stderr",
     "output_type": "stream",
     "text": [
      "Found `num_iterations` in params. Will use it instead of argument\n",
      "Found `early_stopping_round` in params. Will use it instead of argument\n"
     ]
    },
    {
     "name": "stdout",
     "output_type": "stream",
     "text": [
      "[LightGBM] [Warning] lambda_l1 is set=0.005, reg_alpha=0.0 will be ignored. Current value: lambda_l1=0.005\n",
      "[LightGBM] [Warning] num_threads is set=2, n_jobs=-1 will be ignored. Current value: num_threads=2\n",
      "[LightGBM] [Warning] bagging_fraction is set=0.5, subsample=1.0 will be ignored. Current value: bagging_fraction=0.5\n",
      "[LightGBM] [Warning] feature_fraction is set=0.7, colsample_bytree=1.0 will be ignored. Current value: feature_fraction=0.7\n",
      "[LightGBM] [Warning] min_data_in_leaf is set=45, min_child_samples=20 will be ignored. Current value: min_data_in_leaf=45\n",
      "[LightGBM] [Warning] bagging_freq is set=1, subsample_freq=0 will be ignored. Current value: bagging_freq=1\n"
     ]
    },
    {
     "name": "stderr",
     "output_type": "stream",
     "text": [
      "Found `num_iterations` in params. Will use it instead of argument\n",
      "Found `early_stopping_round` in params. Will use it instead of argument\n"
     ]
    },
    {
     "name": "stdout",
     "output_type": "stream",
     "text": [
      "[LightGBM] [Warning] lambda_l1 is set=0.005, reg_alpha=0.0 will be ignored. Current value: lambda_l1=0.005\n",
      "[LightGBM] [Warning] num_threads is set=2, n_jobs=-1 will be ignored. Current value: num_threads=2\n",
      "[LightGBM] [Warning] bagging_fraction is set=0.5, subsample=1.0 will be ignored. Current value: bagging_fraction=0.5\n",
      "[LightGBM] [Warning] feature_fraction is set=0.7, colsample_bytree=1.0 will be ignored. Current value: feature_fraction=0.7\n",
      "[LightGBM] [Warning] min_data_in_leaf is set=45, min_child_samples=20 will be ignored. Current value: min_data_in_leaf=45\n",
      "[LightGBM] [Warning] bagging_freq is set=1, subsample_freq=0 will be ignored. Current value: bagging_freq=1\n"
     ]
    },
    {
     "name": "stderr",
     "output_type": "stream",
     "text": [
      "Found `num_iterations` in params. Will use it instead of argument\n",
      "Found `early_stopping_round` in params. Will use it instead of argument\n"
     ]
    },
    {
     "name": "stdout",
     "output_type": "stream",
     "text": [
      "[LightGBM] [Warning] lambda_l1 is set=0.005, reg_alpha=0.0 will be ignored. Current value: lambda_l1=0.005\n",
      "[LightGBM] [Warning] num_threads is set=2, n_jobs=-1 will be ignored. Current value: num_threads=2\n",
      "[LightGBM] [Warning] bagging_fraction is set=0.5, subsample=1.0 will be ignored. Current value: bagging_fraction=0.5\n",
      "[LightGBM] [Warning] feature_fraction is set=0.7, colsample_bytree=1.0 will be ignored. Current value: feature_fraction=0.7\n",
      "[LightGBM] [Warning] min_data_in_leaf is set=45, min_child_samples=20 will be ignored. Current value: min_data_in_leaf=45\n",
      "[LightGBM] [Warning] bagging_freq is set=1, subsample_freq=0 will be ignored. Current value: bagging_freq=1\n"
     ]
    },
    {
     "name": "stderr",
     "output_type": "stream",
     "text": [
      "Found `num_iterations` in params. Will use it instead of argument\n",
      "Found `early_stopping_round` in params. Will use it instead of argument\n"
     ]
    },
    {
     "name": "stdout",
     "output_type": "stream",
     "text": [
      "[LightGBM] [Warning] lambda_l1 is set=0.001, reg_alpha=0.0 will be ignored. Current value: lambda_l1=0.001\n",
      "[LightGBM] [Warning] num_threads is set=2, n_jobs=-1 will be ignored. Current value: num_threads=2\n",
      "[LightGBM] [Warning] bagging_fraction is set=1.0, subsample=1.0 will be ignored. Current value: bagging_fraction=1.0\n",
      "[LightGBM] [Warning] feature_fraction is set=0.7, colsample_bytree=1.0 will be ignored. Current value: feature_fraction=0.7\n",
      "[LightGBM] [Warning] min_data_in_leaf is set=15, min_child_samples=20 will be ignored. Current value: min_data_in_leaf=15\n",
      "[LightGBM] [Warning] bagging_freq is set=1, subsample_freq=0 will be ignored. Current value: bagging_freq=1\n"
     ]
    },
    {
     "name": "stderr",
     "output_type": "stream",
     "text": [
      "Found `num_iterations` in params. Will use it instead of argument\n",
      "Found `early_stopping_round` in params. Will use it instead of argument\n"
     ]
    },
    {
     "name": "stdout",
     "output_type": "stream",
     "text": [
      "[LightGBM] [Warning] lambda_l1 is set=0.001, reg_alpha=0.0 will be ignored. Current value: lambda_l1=0.001\n",
      "[LightGBM] [Warning] num_threads is set=2, n_jobs=-1 will be ignored. Current value: num_threads=2\n",
      "[LightGBM] [Warning] bagging_fraction is set=1.0, subsample=1.0 will be ignored. Current value: bagging_fraction=1.0\n",
      "[LightGBM] [Warning] feature_fraction is set=0.7, colsample_bytree=1.0 will be ignored. Current value: feature_fraction=0.7\n",
      "[LightGBM] [Warning] min_data_in_leaf is set=15, min_child_samples=20 will be ignored. Current value: min_data_in_leaf=15\n",
      "[LightGBM] [Warning] bagging_freq is set=1, subsample_freq=0 will be ignored. Current value: bagging_freq=1\n"
     ]
    },
    {
     "name": "stderr",
     "output_type": "stream",
     "text": [
      "Found `num_iterations` in params. Will use it instead of argument\n",
      "Found `early_stopping_round` in params. Will use it instead of argument\n"
     ]
    },
    {
     "name": "stdout",
     "output_type": "stream",
     "text": [
      "[LightGBM] [Warning] lambda_l1 is set=0.001, reg_alpha=0.0 will be ignored. Current value: lambda_l1=0.001\n",
      "[LightGBM] [Warning] num_threads is set=2, n_jobs=-1 will be ignored. Current value: num_threads=2\n",
      "[LightGBM] [Warning] bagging_fraction is set=1.0, subsample=1.0 will be ignored. Current value: bagging_fraction=1.0\n",
      "[LightGBM] [Warning] feature_fraction is set=0.7, colsample_bytree=1.0 will be ignored. Current value: feature_fraction=0.7\n",
      "[LightGBM] [Warning] min_data_in_leaf is set=15, min_child_samples=20 will be ignored. Current value: min_data_in_leaf=15\n",
      "[LightGBM] [Warning] bagging_freq is set=1, subsample_freq=0 will be ignored. Current value: bagging_freq=1\n"
     ]
    },
    {
     "name": "stderr",
     "output_type": "stream",
     "text": [
      "Found `num_iterations` in params. Will use it instead of argument\n",
      "Found `early_stopping_round` in params. Will use it instead of argument\n"
     ]
    },
    {
     "name": "stdout",
     "output_type": "stream",
     "text": [
      "[LightGBM] [Warning] lambda_l1 is set=0.001, reg_alpha=0.0 will be ignored. Current value: lambda_l1=0.001\n",
      "[LightGBM] [Warning] num_threads is set=2, n_jobs=-1 will be ignored. Current value: num_threads=2\n",
      "[LightGBM] [Warning] bagging_fraction is set=1.0, subsample=1.0 will be ignored. Current value: bagging_fraction=1.0\n",
      "[LightGBM] [Warning] feature_fraction is set=0.7, colsample_bytree=1.0 will be ignored. Current value: feature_fraction=0.7\n",
      "[LightGBM] [Warning] min_data_in_leaf is set=15, min_child_samples=20 will be ignored. Current value: min_data_in_leaf=15\n",
      "[LightGBM] [Warning] bagging_freq is set=1, subsample_freq=0 will be ignored. Current value: bagging_freq=1\n"
     ]
    },
    {
     "name": "stderr",
     "output_type": "stream",
     "text": [
      "Found `num_iterations` in params. Will use it instead of argument\n",
      "Found `early_stopping_round` in params. Will use it instead of argument\n"
     ]
    },
    {
     "name": "stdout",
     "output_type": "stream",
     "text": [
      "[LightGBM] [Warning] lambda_l1 is set=0.001, reg_alpha=0.0 will be ignored. Current value: lambda_l1=0.001\n",
      "[LightGBM] [Warning] num_threads is set=2, n_jobs=-1 will be ignored. Current value: num_threads=2\n",
      "[LightGBM] [Warning] bagging_fraction is set=1.0, subsample=1.0 will be ignored. Current value: bagging_fraction=1.0\n",
      "[LightGBM] [Warning] feature_fraction is set=0.7, colsample_bytree=1.0 will be ignored. Current value: feature_fraction=0.7\n",
      "[LightGBM] [Warning] min_data_in_leaf is set=15, min_child_samples=20 will be ignored. Current value: min_data_in_leaf=15\n",
      "[LightGBM] [Warning] bagging_freq is set=1, subsample_freq=0 will be ignored. Current value: bagging_freq=1\n"
     ]
    },
    {
     "name": "stderr",
     "output_type": "stream",
     "text": [
      "Found `num_iterations` in params. Will use it instead of argument\n",
      "Found `early_stopping_round` in params. Will use it instead of argument\n"
     ]
    },
    {
     "name": "stdout",
     "output_type": "stream",
     "text": [
      "[LightGBM] [Warning] lambda_l1 is set=0, reg_alpha=0.0 will be ignored. Current value: lambda_l1=0\n",
      "[LightGBM] [Warning] num_threads is set=2, n_jobs=-1 will be ignored. Current value: num_threads=2\n",
      "[LightGBM] [Warning] bagging_fraction is set=0.7, subsample=1.0 will be ignored. Current value: bagging_fraction=0.7\n",
      "[LightGBM] [Warning] feature_fraction is set=0.7, colsample_bytree=1.0 will be ignored. Current value: feature_fraction=0.7\n",
      "[LightGBM] [Warning] min_data_in_leaf is set=85, min_child_samples=20 will be ignored. Current value: min_data_in_leaf=85\n",
      "[LightGBM] [Warning] bagging_freq is set=1, subsample_freq=0 will be ignored. Current value: bagging_freq=1\n"
     ]
    },
    {
     "name": "stderr",
     "output_type": "stream",
     "text": [
      "Found `num_iterations` in params. Will use it instead of argument\n",
      "Found `early_stopping_round` in params. Will use it instead of argument\n"
     ]
    },
    {
     "name": "stdout",
     "output_type": "stream",
     "text": [
      "[LightGBM] [Warning] lambda_l1 is set=0, reg_alpha=0.0 will be ignored. Current value: lambda_l1=0\n",
      "[LightGBM] [Warning] num_threads is set=2, n_jobs=-1 will be ignored. Current value: num_threads=2\n",
      "[LightGBM] [Warning] bagging_fraction is set=0.7, subsample=1.0 will be ignored. Current value: bagging_fraction=0.7\n",
      "[LightGBM] [Warning] feature_fraction is set=0.7, colsample_bytree=1.0 will be ignored. Current value: feature_fraction=0.7\n",
      "[LightGBM] [Warning] min_data_in_leaf is set=85, min_child_samples=20 will be ignored. Current value: min_data_in_leaf=85\n",
      "[LightGBM] [Warning] bagging_freq is set=1, subsample_freq=0 will be ignored. Current value: bagging_freq=1\n"
     ]
    },
    {
     "name": "stderr",
     "output_type": "stream",
     "text": [
      "Found `num_iterations` in params. Will use it instead of argument\n",
      "Found `early_stopping_round` in params. Will use it instead of argument\n"
     ]
    },
    {
     "name": "stdout",
     "output_type": "stream",
     "text": [
      "[LightGBM] [Warning] lambda_l1 is set=0, reg_alpha=0.0 will be ignored. Current value: lambda_l1=0\n",
      "[LightGBM] [Warning] num_threads is set=2, n_jobs=-1 will be ignored. Current value: num_threads=2\n",
      "[LightGBM] [Warning] bagging_fraction is set=0.7, subsample=1.0 will be ignored. Current value: bagging_fraction=0.7\n",
      "[LightGBM] [Warning] feature_fraction is set=0.7, colsample_bytree=1.0 will be ignored. Current value: feature_fraction=0.7\n",
      "[LightGBM] [Warning] min_data_in_leaf is set=85, min_child_samples=20 will be ignored. Current value: min_data_in_leaf=85\n",
      "[LightGBM] [Warning] bagging_freq is set=1, subsample_freq=0 will be ignored. Current value: bagging_freq=1\n"
     ]
    },
    {
     "name": "stderr",
     "output_type": "stream",
     "text": [
      "Found `num_iterations` in params. Will use it instead of argument\n",
      "Found `early_stopping_round` in params. Will use it instead of argument\n"
     ]
    },
    {
     "name": "stdout",
     "output_type": "stream",
     "text": [
      "[LightGBM] [Warning] lambda_l1 is set=0, reg_alpha=0.0 will be ignored. Current value: lambda_l1=0\n",
      "[LightGBM] [Warning] num_threads is set=2, n_jobs=-1 will be ignored. Current value: num_threads=2\n",
      "[LightGBM] [Warning] bagging_fraction is set=0.7, subsample=1.0 will be ignored. Current value: bagging_fraction=0.7\n",
      "[LightGBM] [Warning] feature_fraction is set=0.7, colsample_bytree=1.0 will be ignored. Current value: feature_fraction=0.7\n",
      "[LightGBM] [Warning] min_data_in_leaf is set=85, min_child_samples=20 will be ignored. Current value: min_data_in_leaf=85\n",
      "[LightGBM] [Warning] bagging_freq is set=1, subsample_freq=0 will be ignored. Current value: bagging_freq=1\n"
     ]
    },
    {
     "name": "stderr",
     "output_type": "stream",
     "text": [
      "Found `num_iterations` in params. Will use it instead of argument\n",
      "Found `early_stopping_round` in params. Will use it instead of argument\n"
     ]
    },
    {
     "name": "stdout",
     "output_type": "stream",
     "text": [
      "[LightGBM] [Warning] lambda_l1 is set=0, reg_alpha=0.0 will be ignored. Current value: lambda_l1=0\n",
      "[LightGBM] [Warning] num_threads is set=2, n_jobs=-1 will be ignored. Current value: num_threads=2\n",
      "[LightGBM] [Warning] bagging_fraction is set=0.7, subsample=1.0 will be ignored. Current value: bagging_fraction=0.7\n",
      "[LightGBM] [Warning] feature_fraction is set=0.7, colsample_bytree=1.0 will be ignored. Current value: feature_fraction=0.7\n",
      "[LightGBM] [Warning] min_data_in_leaf is set=85, min_child_samples=20 will be ignored. Current value: min_data_in_leaf=85\n",
      "[LightGBM] [Warning] bagging_freq is set=1, subsample_freq=0 will be ignored. Current value: bagging_freq=1\n"
     ]
    },
    {
     "name": "stderr",
     "output_type": "stream",
     "text": [
      "Found `num_iterations` in params. Will use it instead of argument\n",
      "Found `early_stopping_round` in params. Will use it instead of argument\n"
     ]
    },
    {
     "name": "stdout",
     "output_type": "stream",
     "text": [
      "[LightGBM] [Warning] lambda_l1 is set=0, reg_alpha=0.0 will be ignored. Current value: lambda_l1=0\n",
      "[LightGBM] [Warning] num_threads is set=2, n_jobs=-1 will be ignored. Current value: num_threads=2\n",
      "[LightGBM] [Warning] bagging_fraction is set=0.9, subsample=1.0 will be ignored. Current value: bagging_fraction=0.9\n",
      "[LightGBM] [Warning] feature_fraction is set=0.4, colsample_bytree=1.0 will be ignored. Current value: feature_fraction=0.4\n",
      "[LightGBM] [Warning] min_data_in_leaf is set=90, min_child_samples=20 will be ignored. Current value: min_data_in_leaf=90\n",
      "[LightGBM] [Warning] bagging_freq is set=1, subsample_freq=0 will be ignored. Current value: bagging_freq=1\n"
     ]
    },
    {
     "name": "stderr",
     "output_type": "stream",
     "text": [
      "Found `num_iterations` in params. Will use it instead of argument\n",
      "Found `early_stopping_round` in params. Will use it instead of argument\n"
     ]
    },
    {
     "name": "stdout",
     "output_type": "stream",
     "text": [
      "[LightGBM] [Warning] lambda_l1 is set=0, reg_alpha=0.0 will be ignored. Current value: lambda_l1=0\n",
      "[LightGBM] [Warning] num_threads is set=2, n_jobs=-1 will be ignored. Current value: num_threads=2\n",
      "[LightGBM] [Warning] bagging_fraction is set=0.9, subsample=1.0 will be ignored. Current value: bagging_fraction=0.9\n",
      "[LightGBM] [Warning] feature_fraction is set=0.4, colsample_bytree=1.0 will be ignored. Current value: feature_fraction=0.4\n",
      "[LightGBM] [Warning] min_data_in_leaf is set=90, min_child_samples=20 will be ignored. Current value: min_data_in_leaf=90\n",
      "[LightGBM] [Warning] bagging_freq is set=1, subsample_freq=0 will be ignored. Current value: bagging_freq=1\n"
     ]
    },
    {
     "name": "stderr",
     "output_type": "stream",
     "text": [
      "Found `num_iterations` in params. Will use it instead of argument\n",
      "Found `early_stopping_round` in params. Will use it instead of argument\n"
     ]
    },
    {
     "name": "stdout",
     "output_type": "stream",
     "text": [
      "[LightGBM] [Warning] lambda_l1 is set=0, reg_alpha=0.0 will be ignored. Current value: lambda_l1=0\n",
      "[LightGBM] [Warning] num_threads is set=2, n_jobs=-1 will be ignored. Current value: num_threads=2\n",
      "[LightGBM] [Warning] bagging_fraction is set=0.9, subsample=1.0 will be ignored. Current value: bagging_fraction=0.9\n",
      "[LightGBM] [Warning] feature_fraction is set=0.4, colsample_bytree=1.0 will be ignored. Current value: feature_fraction=0.4\n",
      "[LightGBM] [Warning] min_data_in_leaf is set=90, min_child_samples=20 will be ignored. Current value: min_data_in_leaf=90\n",
      "[LightGBM] [Warning] bagging_freq is set=1, subsample_freq=0 will be ignored. Current value: bagging_freq=1\n"
     ]
    },
    {
     "name": "stderr",
     "output_type": "stream",
     "text": [
      "Found `num_iterations` in params. Will use it instead of argument\n",
      "Found `early_stopping_round` in params. Will use it instead of argument\n"
     ]
    },
    {
     "name": "stdout",
     "output_type": "stream",
     "text": [
      "[LightGBM] [Warning] lambda_l1 is set=0, reg_alpha=0.0 will be ignored. Current value: lambda_l1=0\n",
      "[LightGBM] [Warning] num_threads is set=2, n_jobs=-1 will be ignored. Current value: num_threads=2\n",
      "[LightGBM] [Warning] bagging_fraction is set=0.9, subsample=1.0 will be ignored. Current value: bagging_fraction=0.9\n",
      "[LightGBM] [Warning] feature_fraction is set=0.4, colsample_bytree=1.0 will be ignored. Current value: feature_fraction=0.4\n",
      "[LightGBM] [Warning] min_data_in_leaf is set=90, min_child_samples=20 will be ignored. Current value: min_data_in_leaf=90\n",
      "[LightGBM] [Warning] bagging_freq is set=1, subsample_freq=0 will be ignored. Current value: bagging_freq=1\n"
     ]
    },
    {
     "name": "stderr",
     "output_type": "stream",
     "text": [
      "Found `num_iterations` in params. Will use it instead of argument\n",
      "Found `early_stopping_round` in params. Will use it instead of argument\n"
     ]
    },
    {
     "name": "stdout",
     "output_type": "stream",
     "text": [
      "[LightGBM] [Warning] lambda_l1 is set=0, reg_alpha=0.0 will be ignored. Current value: lambda_l1=0\n",
      "[LightGBM] [Warning] num_threads is set=2, n_jobs=-1 will be ignored. Current value: num_threads=2\n",
      "[LightGBM] [Warning] bagging_fraction is set=0.9, subsample=1.0 will be ignored. Current value: bagging_fraction=0.9\n",
      "[LightGBM] [Warning] feature_fraction is set=0.4, colsample_bytree=1.0 will be ignored. Current value: feature_fraction=0.4\n",
      "[LightGBM] [Warning] min_data_in_leaf is set=90, min_child_samples=20 will be ignored. Current value: min_data_in_leaf=90\n",
      "[LightGBM] [Warning] bagging_freq is set=1, subsample_freq=0 will be ignored. Current value: bagging_freq=1\n"
     ]
    },
    {
     "name": "stderr",
     "output_type": "stream",
     "text": [
      "Found `num_iterations` in params. Will use it instead of argument\n",
      "Found `early_stopping_round` in params. Will use it instead of argument\n"
     ]
    },
    {
     "name": "stdout",
     "output_type": "stream",
     "text": [
      "[LightGBM] [Warning] lambda_l1 is set=0, reg_alpha=0.0 will be ignored. Current value: lambda_l1=0\n",
      "[LightGBM] [Warning] num_threads is set=2, n_jobs=-1 will be ignored. Current value: num_threads=2\n",
      "[LightGBM] [Warning] bagging_fraction is set=0.4, subsample=1.0 will be ignored. Current value: bagging_fraction=0.4\n",
      "[LightGBM] [Warning] feature_fraction is set=0.8, colsample_bytree=1.0 will be ignored. Current value: feature_fraction=0.8\n",
      "[LightGBM] [Warning] min_data_in_leaf is set=95, min_child_samples=20 will be ignored. Current value: min_data_in_leaf=95\n",
      "[LightGBM] [Warning] bagging_freq is set=1, subsample_freq=0 will be ignored. Current value: bagging_freq=1\n"
     ]
    },
    {
     "name": "stderr",
     "output_type": "stream",
     "text": [
      "Found `num_iterations` in params. Will use it instead of argument\n",
      "Found `early_stopping_round` in params. Will use it instead of argument\n"
     ]
    },
    {
     "name": "stdout",
     "output_type": "stream",
     "text": [
      "[LightGBM] [Warning] lambda_l1 is set=0, reg_alpha=0.0 will be ignored. Current value: lambda_l1=0\n",
      "[LightGBM] [Warning] num_threads is set=2, n_jobs=-1 will be ignored. Current value: num_threads=2\n",
      "[LightGBM] [Warning] bagging_fraction is set=0.4, subsample=1.0 will be ignored. Current value: bagging_fraction=0.4\n",
      "[LightGBM] [Warning] feature_fraction is set=0.8, colsample_bytree=1.0 will be ignored. Current value: feature_fraction=0.8\n",
      "[LightGBM] [Warning] min_data_in_leaf is set=95, min_child_samples=20 will be ignored. Current value: min_data_in_leaf=95\n",
      "[LightGBM] [Warning] bagging_freq is set=1, subsample_freq=0 will be ignored. Current value: bagging_freq=1\n"
     ]
    },
    {
     "name": "stderr",
     "output_type": "stream",
     "text": [
      "Found `num_iterations` in params. Will use it instead of argument\n",
      "Found `early_stopping_round` in params. Will use it instead of argument\n"
     ]
    },
    {
     "name": "stdout",
     "output_type": "stream",
     "text": [
      "[LightGBM] [Warning] lambda_l1 is set=0, reg_alpha=0.0 will be ignored. Current value: lambda_l1=0\n",
      "[LightGBM] [Warning] num_threads is set=2, n_jobs=-1 will be ignored. Current value: num_threads=2\n",
      "[LightGBM] [Warning] bagging_fraction is set=0.4, subsample=1.0 will be ignored. Current value: bagging_fraction=0.4\n",
      "[LightGBM] [Warning] feature_fraction is set=0.8, colsample_bytree=1.0 will be ignored. Current value: feature_fraction=0.8\n",
      "[LightGBM] [Warning] min_data_in_leaf is set=95, min_child_samples=20 will be ignored. Current value: min_data_in_leaf=95\n",
      "[LightGBM] [Warning] bagging_freq is set=1, subsample_freq=0 will be ignored. Current value: bagging_freq=1\n"
     ]
    },
    {
     "name": "stderr",
     "output_type": "stream",
     "text": [
      "Found `num_iterations` in params. Will use it instead of argument\n",
      "Found `early_stopping_round` in params. Will use it instead of argument\n"
     ]
    },
    {
     "name": "stdout",
     "output_type": "stream",
     "text": [
      "[LightGBM] [Warning] lambda_l1 is set=0, reg_alpha=0.0 will be ignored. Current value: lambda_l1=0\n",
      "[LightGBM] [Warning] num_threads is set=2, n_jobs=-1 will be ignored. Current value: num_threads=2\n",
      "[LightGBM] [Warning] bagging_fraction is set=0.4, subsample=1.0 will be ignored. Current value: bagging_fraction=0.4\n",
      "[LightGBM] [Warning] feature_fraction is set=0.8, colsample_bytree=1.0 will be ignored. Current value: feature_fraction=0.8\n",
      "[LightGBM] [Warning] min_data_in_leaf is set=95, min_child_samples=20 will be ignored. Current value: min_data_in_leaf=95\n",
      "[LightGBM] [Warning] bagging_freq is set=1, subsample_freq=0 will be ignored. Current value: bagging_freq=1\n"
     ]
    },
    {
     "name": "stderr",
     "output_type": "stream",
     "text": [
      "Found `num_iterations` in params. Will use it instead of argument\n",
      "Found `early_stopping_round` in params. Will use it instead of argument\n"
     ]
    },
    {
     "name": "stdout",
     "output_type": "stream",
     "text": [
      "[LightGBM] [Warning] lambda_l1 is set=0, reg_alpha=0.0 will be ignored. Current value: lambda_l1=0\n",
      "[LightGBM] [Warning] num_threads is set=2, n_jobs=-1 will be ignored. Current value: num_threads=2\n",
      "[LightGBM] [Warning] bagging_fraction is set=0.4, subsample=1.0 will be ignored. Current value: bagging_fraction=0.4\n",
      "[LightGBM] [Warning] feature_fraction is set=0.8, colsample_bytree=1.0 will be ignored. Current value: feature_fraction=0.8\n",
      "[LightGBM] [Warning] min_data_in_leaf is set=95, min_child_samples=20 will be ignored. Current value: min_data_in_leaf=95\n",
      "[LightGBM] [Warning] bagging_freq is set=1, subsample_freq=0 will be ignored. Current value: bagging_freq=1\n"
     ]
    },
    {
     "name": "stderr",
     "output_type": "stream",
     "text": [
      "Found `num_iterations` in params. Will use it instead of argument\n",
      "Found `early_stopping_round` in params. Will use it instead of argument\n"
     ]
    },
    {
     "name": "stdout",
     "output_type": "stream",
     "text": [
      "[LightGBM] [Warning] lambda_l1 is set=0, reg_alpha=0.0 will be ignored. Current value: lambda_l1=0\n",
      "[LightGBM] [Warning] num_threads is set=2, n_jobs=-1 will be ignored. Current value: num_threads=2\n",
      "[LightGBM] [Warning] bagging_fraction is set=1.0, subsample=1.0 will be ignored. Current value: bagging_fraction=1.0\n",
      "[LightGBM] [Warning] feature_fraction is set=0.4, colsample_bytree=1.0 will be ignored. Current value: feature_fraction=0.4\n",
      "[LightGBM] [Warning] min_data_in_leaf is set=95, min_child_samples=20 will be ignored. Current value: min_data_in_leaf=95\n",
      "[LightGBM] [Warning] bagging_freq is set=1, subsample_freq=0 will be ignored. Current value: bagging_freq=1\n"
     ]
    },
    {
     "name": "stderr",
     "output_type": "stream",
     "text": [
      "Found `num_iterations` in params. Will use it instead of argument\n",
      "Found `early_stopping_round` in params. Will use it instead of argument\n"
     ]
    },
    {
     "name": "stdout",
     "output_type": "stream",
     "text": [
      "[LightGBM] [Warning] lambda_l1 is set=0, reg_alpha=0.0 will be ignored. Current value: lambda_l1=0\n",
      "[LightGBM] [Warning] num_threads is set=2, n_jobs=-1 will be ignored. Current value: num_threads=2\n",
      "[LightGBM] [Warning] bagging_fraction is set=1.0, subsample=1.0 will be ignored. Current value: bagging_fraction=1.0\n",
      "[LightGBM] [Warning] feature_fraction is set=0.4, colsample_bytree=1.0 will be ignored. Current value: feature_fraction=0.4\n",
      "[LightGBM] [Warning] min_data_in_leaf is set=95, min_child_samples=20 will be ignored. Current value: min_data_in_leaf=95\n",
      "[LightGBM] [Warning] bagging_freq is set=1, subsample_freq=0 will be ignored. Current value: bagging_freq=1\n"
     ]
    },
    {
     "name": "stderr",
     "output_type": "stream",
     "text": [
      "Found `num_iterations` in params. Will use it instead of argument\n",
      "Found `early_stopping_round` in params. Will use it instead of argument\n"
     ]
    },
    {
     "name": "stdout",
     "output_type": "stream",
     "text": [
      "[LightGBM] [Warning] lambda_l1 is set=0, reg_alpha=0.0 will be ignored. Current value: lambda_l1=0\n",
      "[LightGBM] [Warning] num_threads is set=2, n_jobs=-1 will be ignored. Current value: num_threads=2\n",
      "[LightGBM] [Warning] bagging_fraction is set=1.0, subsample=1.0 will be ignored. Current value: bagging_fraction=1.0\n",
      "[LightGBM] [Warning] feature_fraction is set=0.4, colsample_bytree=1.0 will be ignored. Current value: feature_fraction=0.4\n",
      "[LightGBM] [Warning] min_data_in_leaf is set=95, min_child_samples=20 will be ignored. Current value: min_data_in_leaf=95\n",
      "[LightGBM] [Warning] bagging_freq is set=1, subsample_freq=0 will be ignored. Current value: bagging_freq=1\n"
     ]
    },
    {
     "name": "stderr",
     "output_type": "stream",
     "text": [
      "Found `num_iterations` in params. Will use it instead of argument\n",
      "Found `early_stopping_round` in params. Will use it instead of argument\n"
     ]
    },
    {
     "name": "stdout",
     "output_type": "stream",
     "text": [
      "[LightGBM] [Warning] lambda_l1 is set=0, reg_alpha=0.0 will be ignored. Current value: lambda_l1=0\n",
      "[LightGBM] [Warning] num_threads is set=2, n_jobs=-1 will be ignored. Current value: num_threads=2\n",
      "[LightGBM] [Warning] bagging_fraction is set=1.0, subsample=1.0 will be ignored. Current value: bagging_fraction=1.0\n",
      "[LightGBM] [Warning] feature_fraction is set=0.4, colsample_bytree=1.0 will be ignored. Current value: feature_fraction=0.4\n",
      "[LightGBM] [Warning] min_data_in_leaf is set=95, min_child_samples=20 will be ignored. Current value: min_data_in_leaf=95\n",
      "[LightGBM] [Warning] bagging_freq is set=1, subsample_freq=0 will be ignored. Current value: bagging_freq=1\n"
     ]
    },
    {
     "name": "stderr",
     "output_type": "stream",
     "text": [
      "Found `num_iterations` in params. Will use it instead of argument\n",
      "Found `early_stopping_round` in params. Will use it instead of argument\n"
     ]
    },
    {
     "name": "stdout",
     "output_type": "stream",
     "text": [
      "[LightGBM] [Warning] lambda_l1 is set=0, reg_alpha=0.0 will be ignored. Current value: lambda_l1=0\n",
      "[LightGBM] [Warning] num_threads is set=2, n_jobs=-1 will be ignored. Current value: num_threads=2\n",
      "[LightGBM] [Warning] bagging_fraction is set=1.0, subsample=1.0 will be ignored. Current value: bagging_fraction=1.0\n",
      "[LightGBM] [Warning] feature_fraction is set=0.4, colsample_bytree=1.0 will be ignored. Current value: feature_fraction=0.4\n",
      "[LightGBM] [Warning] min_data_in_leaf is set=95, min_child_samples=20 will be ignored. Current value: min_data_in_leaf=95\n",
      "[LightGBM] [Warning] bagging_freq is set=1, subsample_freq=0 will be ignored. Current value: bagging_freq=1\n"
     ]
    },
    {
     "name": "stderr",
     "output_type": "stream",
     "text": [
      "Found `num_iterations` in params. Will use it instead of argument\n",
      "Found `early_stopping_round` in params. Will use it instead of argument\n"
     ]
    },
    {
     "name": "stdout",
     "output_type": "stream",
     "text": [
      "[LightGBM] [Warning] lambda_l1 is set=0, reg_alpha=0.0 will be ignored. Current value: lambda_l1=0\n",
      "[LightGBM] [Warning] num_threads is set=2, n_jobs=-1 will be ignored. Current value: num_threads=2\n",
      "[LightGBM] [Warning] bagging_fraction is set=0.7, subsample=1.0 will be ignored. Current value: bagging_fraction=0.7\n",
      "[LightGBM] [Warning] feature_fraction is set=0.2, colsample_bytree=1.0 will be ignored. Current value: feature_fraction=0.2\n",
      "[LightGBM] [Warning] min_data_in_leaf is set=40, min_child_samples=20 will be ignored. Current value: min_data_in_leaf=40\n",
      "[LightGBM] [Warning] bagging_freq is set=1, subsample_freq=0 will be ignored. Current value: bagging_freq=1\n"
     ]
    },
    {
     "name": "stderr",
     "output_type": "stream",
     "text": [
      "LightGBM binary classifier with TreeExplainer shap values output has changed to a list of ndarray\n"
     ]
    },
    {
     "name": "stdout",
     "output_type": "stream",
     "text": [
      "finished is_self at 17:34:59\n"
     ]
    },
    {
     "data": {
      "text/plain": "<Figure size 576x684 with 1 Axes>",
      "image/png": "[encoded data removed]"
     },
     "metadata": {
      "needs_background": "light"
     },
     "output_type": "display_data"
    }
   ],
   "source": [
    "%%capture\n",
    "results = LGBM.LGBMPredict(x, y, out_dir, do_permutations=False)"
   ],
   "metadata": {
    "collapsed": false,
    "pycharm": {
     "name": "#%%\n"
    }
   }
  },
  {
   "cell_type": "code",
   "execution_count": 57,
   "outputs": [
    {
     "data": {
      "text/plain": "        is_self\n157105      0.0\n374554      0.0\n688694      0.0\n265381      0.0\n955415      0.0\n...         ...\n957385      0.0\n872294      0.0\n295258      0.0\n568161      0.0\n275332      0.0\n\n[200000 rows x 1 columns]",
      "text/html": "<div>\n<style scoped>\n    .dataframe tbody tr th:only-of-type {\n        vertical-align: middle;\n    }\n\n    .dataframe tbody tr th {\n        vertical-align: top;\n    }\n\n    .dataframe thead th {\n        text-align: right;\n    }\n</style>\n<table border=\"1\" class=\"dataframe\">\n  <thead>\n    <tr style=\"text-align: right;\">\n      <th></th>\n      <th>is_self</th>\n    </tr>\n  </thead>\n  <tbody>\n    <tr>\n      <th>157105</th>\n      <td>0.0</td>\n    </tr>\n    <tr>\n      <th>374554</th>\n      <td>0.0</td>\n    </tr>\n    <tr>\n      <th>688694</th>\n      <td>0.0</td>\n    </tr>\n    <tr>\n      <th>265381</th>\n      <td>0.0</td>\n    </tr>\n    <tr>\n      <th>955415</th>\n      <td>0.0</td>\n    </tr>\n    <tr>\n      <th>...</th>\n      <td>...</td>\n    </tr>\n    <tr>\n      <th>957385</th>\n      <td>0.0</td>\n    </tr>\n    <tr>\n      <th>872294</th>\n      <td>0.0</td>\n    </tr>\n    <tr>\n      <th>295258</th>\n      <td>0.0</td>\n    </tr>\n    <tr>\n      <th>568161</th>\n      <td>0.0</td>\n    </tr>\n    <tr>\n      <th>275332</th>\n      <td>0.0</td>\n    </tr>\n  </tbody>\n</table>\n<p>200000 rows × 1 columns</p>\n</div>"
     },
     "execution_count": 57,
     "metadata": {},
     "output_type": "execute_result"
    }
   ],
   "source": [
    "results[3]"
   ],
   "metadata": {
    "collapsed": false,
    "pycharm": {
     "name": "#%%\n"
    }
   }
  },
  {
   "cell_type": "code",
   "execution_count": 82,
   "outputs": [],
   "source": [
    "import os\n",
    "import time\n",
    "\n",
    "import pickle\n",
    "import pandas as pd\n",
    "from pandas import DataFrame\n",
    "import numpy as np\n",
    "import matplotlib.pyplot as plt\n",
    "import seaborn as sns\n",
    "from sklearn import metrics\n",
    "from sklearn.metrics import r2_score, explained_variance_score, precision_recall_curve\n",
    "from sklearn.model_selection import RandomizedSearchCV, train_test_split\n",
    "from scipy.stats import pearsonr, spearmanr\n",
    "import shap\n",
    "import lightgbm as lgb\n",
    "import statistics\n",
    "import scipy.stats\n",
    "\n",
    "import config_local as cl\n",
    "from LabData import config_global as config\n",
    "\n",
    "# LightGBM\n",
    "lg_boosting_type = 'gbdt'\n",
    "lg_objective = 'regression' # TODO change to classifier accordingly?\n",
    "lg_metric = 'l2'\n",
    "lg_learning_rate = 0.03\n",
    "lg_num_leaves = 31\n",
    "lg_max_depth = 4\n",
    "lg_num_iterations = 2000\n",
    "lg_min_data_in_leaf = 20\n",
    "lg_feature_fraction = 0.1\n",
    "lg_bagging_fraction = 0.7\n",
    "lg_bagging_freq = 1\n",
    "lg_lambda_l1 = 0\n",
    "lg_early_stopping_round = None\n",
    "lg_verbose = -1\n",
    "lg_num_threads = 2\n",
    "lg_silent = True\n",
    "\n",
    "# LightGBM hyper parameter search\n",
    "hyper_params_dict_lg = \\\n",
    "    {\n",
    "        'boosting_type': ['gbdt'],\n",
    "        'objective': ['regression'], #can be 'regression', 'binary', 'multiclass'....\n",
    "        'metric': ['l2'],\n",
    "        'learning_rate': [0.05, 0.02, 0.01, 0.005, 0.002, 0.001, 0.0005, 0.0002, 0.0001],\n",
    "        'num_leaves': range(2, 35),\n",
    "        'max_depth': [-1, 2, 3, 4, 5, 10],\n",
    "        'num_iterations': range(100, 2500, 50),\n",
    "        'min_data_in_leaf': range(5, 100, 5),\n",
    "        'feature_fraction': [i / 10. for i in range(2, 11)],  # [1] when using dummy variables\n",
    "        'bagging_fraction': [i / 10. for i in range(4, 11)],\n",
    "        'bagging_freq': [1],\n",
    "        'lambda_l1': [0, 0.001, 0.005, 0.01],\n",
    "        'early_stopping_round': [None],\n",
    "        'verbose': [-1],\n",
    "        'num_threads': [2],\n",
    "        'silent': [True],\n",
    "    }\n",
    "\n",
    "n_permutations = 100\n",
    "\n",
    "\n",
    "def is_classification(y):\n",
    "    if (y.unique().shape[0] == 2) and ((type(y.unique().max()) == str) |\n",
    "                                       (y.sort_values().unique() == np.array([0., 1.])).all()):\n",
    "        return True\n",
    "    return False\n",
    "\n",
    "\n",
    "def fit_hyper_params_search(x, y, classification_problem, scale_pos_weight = None):\n",
    "    if classification_problem:\n",
    "        lgb_model = lgb.LGBMClassifier()\n",
    "        hyper_params_dict_lg['objective'] = ['binary']\n",
    "        if scale_pos_weight:\n",
    "            hyper_params_dict_lg['scale_pos_weight'] = [scale_pos_weight]\n",
    "    else:\n",
    "        lgb_model = lgb.LGBMRegressor()\n",
    "\n",
    "    rscv = RandomizedSearchCV(lgb_model, hyper_params_dict_lg)\n",
    "    rscv.fit(x, y)\n",
    "    predictor = rscv.best_estimator_\n",
    "    model = predictor\n",
    "    return model\n",
    "\n",
    "\n",
    "def calc_shap(model, x):\n",
    "    explainer = shap.TreeExplainer(model)\n",
    "    x_shap = x\n",
    "    shap_values = explainer.shap_values(x_shap)\n",
    "    # shap_df = DataFrame(columns=x.columns, index=x_shap.index, data=shap_values[0])\n",
    "    return explainer\n",
    "\n",
    "\n",
    "def get_prediction(x: DataFrame, model: lgb.LGBMRegressor):\n",
    "    return model.predict(x).ravel()\n",
    "\n",
    "\n",
    "def evaluate_performance(y_pred, y_test, classification_problem):\n",
    "    results_dict = {}\n",
    "    if classification_problem:\n",
    "        fpr, tpr, thresholds = metrics.roc_curve(y_test, y_pred, pos_label=1)\n",
    "        precision, recall, _ = precision_recall_curve(y_test, y_pred)\n",
    "        results_dict = {\n",
    "            'prevalence': float(y_test.sum()) / y_test.shape[0],\n",
    "            'AUC': metrics.auc(fpr, tpr),\n",
    "            'Precision_Recall': metrics.auc(recall, precision)\n",
    "        }\n",
    "    else:\n",
    "        results_dict = {\n",
    "            'Coefficient_of_determination': r2_score(y_true=y_test, y_pred=y_pred),\n",
    "            'explained_variance_score': explained_variance_score(y_true=y_test, y_pred=y_pred),\n",
    "            'pearson_r': pearsonr(y_pred, y_test)[0],\n",
    "            'pearson_p_value': pearsonr(y_pred, y_test)[1],\n",
    "            'spearman_r': spearmanr(y_pred, y_test)[0],\n",
    "            'spearman_p_value': spearmanr(y_pred, y_test)[1]\n",
    "        }\n",
    "    return results_dict\n",
    "\n",
    "\n",
    "def save_files(x_train: pd.DataFrame, x_test: pd.DataFrame, y_train: pd.DataFrame, y_test: pd.DataFrame,\n",
    "               y_pred: pd.DataFrame, results_df: pd.DataFrame, model,\n",
    "               perm_results: pd.DataFrame, is_signal: bool, out_dir, y_col):\n",
    "    x_train.to_csv(os.path.join(out_dir, 'x_train.csv'))\n",
    "    x_test.to_csv(os.path.join(out_dir, 'x_test.csv'))\n",
    "    y_train.to_csv(os.path.join(out_dir, 'y_train.csv'))\n",
    "    y_test.to_csv(os.path.join(out_dir, 'y_test.csv'))\n",
    "    y_pred.to_csv(os.path.join(out_dir, 'y_pred.csv'))\n",
    "    results_df.to_csv(os.path.join(out_dir, 'results.csv'))\n",
    "    model.booster_.save_model('LGBM_model.txt')\n",
    "    perm_results.to_csv(os.path.join(out_dir, f'Permutations_is_signal_{is_signal}'))\n",
    "\n",
    "    # combined_dict = {\n",
    "    #     'x_train': x_train,\n",
    "    #     'x_test': x_test,\n",
    "    #     'y_train': y_train,\n",
    "    #     'y_test': y_test,\n",
    "    #     'y_pred': y_pred,\n",
    "    #     'model': model,\n",
    "    #     'results_df': results_df,\n",
    "    #     'perm_results': perm_results\n",
    "    # }\n",
    "    # combined_df = DataFrame(combined_dict, index=y_col)\n",
    "\n",
    "    cl.save_pickle(x_train, out_dir, 'x_train.pickle')\n",
    "    cl.save_pickle(x_test, out_dir, 'x_test.pickle')\n",
    "    cl.save_pickle(y_train, out_dir, 'y_train.pickle')\n",
    "    cl.save_pickle(y_test, out_dir, 'y_test.pickle')\n",
    "    cl.save_pickle(y_pred, out_dir, 'y_pred.pickle')\n",
    "    cl.save_pickle(results_df, out_dir, 'results.pickle')\n",
    "    cl.save_pickle(perm_results, out_dir, f'Permutations_is_signal_{is_signal}.pickle')\n",
    "    cl.save_pickle(model, out_dir, 'Model.pickle')\n",
    "\n",
    "    # cl.save_pickle(combined_df, out_dir, 'combined_df.pickle')\n",
    "\n",
    "    # model.booster_.save_model('LGBM_model.txt')\n",
    "\n",
    "\n",
    "def get_sample_pvalue_out_of_data(data: list, sample: float):\n",
    "    mu = statistics.mean(data)\n",
    "    sigma = statistics.stdev(data)\n",
    "    z = (sample - mu) / sigma\n",
    "    p = scipy.stats.norm.sf(z)\n",
    "    return mu, sigma, p\n",
    "\n",
    "\n",
    "def draw_permutation_distribution(data: list, real_point: float, basepath: os.path):\n",
    "    mu, sigma, p = get_sample_pvalue_out_of_data(data, real_point)\n",
    "    sns.histplot(data)\n",
    "    plt.annotate(f'pvalue={p}', xy=(0.05, 0.95), xycoords='axes fraction')\n",
    "    plt.axline((real_point, 0), (real_point, 1), linewidth=1, color='r', label='Real Pearson_r')\n",
    "    plt.savefig(os.path.join(basepath, 'permutation_histogram.png'), bbox_inches='tight')\n",
    "    return\n",
    "\n",
    "\n",
    "def permutations_test(x_train: DataFrame, x_test: DataFrame, y_train: DataFrame, y_test: DataFrame,\n",
    "                      classification_problem: bool, real_results_df, basepath: os.path,\n",
    "                      do_permutations: bool = True, scale_pos_weight=1):\n",
    "\n",
    "    if not do_permutations:\n",
    "        return None, None\n",
    "\n",
    "    better_perm_score_count = 0\n",
    "    is_signal = True\n",
    "    perm_results = [] #{}\n",
    "    if not classification_problem:\n",
    "        metric = 'pearson_r'\n",
    "    else:\n",
    "        metric = 'AUC'\n",
    "\n",
    "    if real_results_df[metric][0] < 0:\n",
    "        is_signal = False\n",
    "        return is_signal, perm_results\n",
    "    for perm_iter in range(n_permutations):\n",
    "        x_perm = x_train.copy()\n",
    "        x_perm.index = np.random.permutation(x_perm.index)\n",
    "        x_perm = x_perm.sample(frac=1)\n",
    "        results_dict = train_model(x_perm, x_test, y_train, y_test, classification_problem=classification_problem,\n",
    "                                   is_permuted=True, scale_pos_weight=scale_pos_weight)\n",
    "        perm_results.append(results_dict[metric])\n",
    "        # for k, v in results_dict.items():\n",
    "        #     if perm_iter == 0:\n",
    "        #         perm_results[k] = [v]\n",
    "        #     else:\n",
    "        #         perm_results[k].append(v)\n",
    "        if real_results_df[metric][0] < results_dict[metric]:\n",
    "            better_perm_score_count = better_perm_score_count + 1\n",
    "        # if perm_iter > 0\n",
    "        #     mu, sigma, p = get_sample_pvalue_out_of_data(perm_results, real_results_df[metric][0])\n",
    "        #     sns.histplot(perm_results)\n",
    "        #     plt.annotate(f'pvalue={p}', xy=(0.05, 0.95), xycoords='axes fraction')\n",
    "        #     plt.show()\n",
    "        if perm_iter == 4 or perm_iter == 9:\n",
    "            if better_perm_score_count >= 3:\n",
    "                is_signal = False\n",
    "                # draw_permutation_distribution(perm_results, real_results_df[metric][0], basepath=basepath)\n",
    "                return is_signal, perm_results\n",
    "        if perm_iter == 99:\n",
    "            if better_perm_score_count >= 5:\n",
    "                is_signal = False\n",
    "                # draw_permutation_distribution(perm_results, real_results_df[metric][0], basepath=basepath)\n",
    "                return is_signal, perm_results\n",
    "        if perm_iter >= 99:\n",
    "            if better_perm_score_count/perm_iter > 0.06:\n",
    "                is_signal = False\n",
    "                return is_signal, perm_results\n",
    "    # draw_permutation_distribution(perm_results, real_results_df[metric][0], basepath=basepath)\n",
    "    return is_signal, perm_results\n",
    "\n",
    "\n",
    "def train_model(x_train: DataFrame, x_test: DataFrame, y_train: DataFrame, y_test: DataFrame,\n",
    "                classification_problem: bool, is_permuted: bool = False, scale_pos_weight = None):\n",
    "    # x_train, x_test, y_train, y_test = train_test_split(x, y, test_size=0.2, random_state=0)\n",
    "    model = fit_hyper_params_search(x_train, y_train, classification_problem, scale_pos_weight=scale_pos_weight)\n",
    "    y_pred = get_prediction(x_test, model)\n",
    "    results_dict = evaluate_performance(y_pred, y_test, classification_problem)\n",
    "\n",
    "    if is_permuted:\n",
    "        return results_dict\n",
    "\n",
    "    return y_pred, model, results_dict\n",
    "\n",
    "\n",
    "def LGBMPredict(x: DataFrame, y: DataFrame, base_path: os.path, do_permutations: bool = True, scale_pos_weight = 1000):\n",
    "    # base_path = \"/net/mraid08/export/genie/LabData/Analyses/galavner/Predictions/AG_to_ABI\"\n",
    "    out_dir = os.path.join(base_path, y.name)\n",
    "    if not os.path.exists(out_dir):\n",
    "        os.makedirs(out_dir)\n",
    "    os.chdir(out_dir)\n",
    "    # with qp(jobname='Gal_LGBM', q=['himem7.q'], _mem_def=str(2) + 'G',\n",
    "    #         _trds_def=2, max_u=650) as q:\n",
    "    #     q.startpermanentrun()\n",
    "    classification_problem = is_classification(y)\n",
    "    x_train, x_test, y_train, y_test = train_test_split(x, y, test_size=0.2, random_state=0)\n",
    "    # model = fit_hyper_params_search(x_train, y_train, classification_problem)\n",
    "    # model.booster_.save_model('LGBM_model.txt')\n",
    "\n",
    "    # y_pred = get_prediction(x_test, model)\n",
    "    # results_dict = evaluate_performance(y_pred, y_test, classification_problem)\n",
    "    y_pred, model, results_dict =\\\n",
    "        train_model(x_train, x_test, y_train, y_test, classification_problem=classification_problem, scale_pos_weight=scale_pos_weight)\n",
    "    y_train = pd.DataFrame(y_train, columns=[y.name], index=x_train.index)\n",
    "    y_test = pd.DataFrame(y_test, columns=[y.name], index=x_test.index)\n",
    "    y_pred = pd.DataFrame(y_pred, columns=[y.name], index=x_test.index)\n",
    "    result_df = pd.DataFrame(results_dict, index=[y.name])\n",
    "    if not do_permutations:\n",
    "        is_signal = None\n",
    "        permutations_results = None\n",
    "    else:\n",
    "        is_signal, permutations_results = permutations_test(x_train, x_test, y_train, y_test,\n",
    "                                                        classification_problem=classification_problem,\n",
    "                                                        real_results_df=result_df, basepath=out_dir,\n",
    "                                                        do_permutations=do_permutations, scale_pos_weight=scale_pos_weight)\n",
    "    perm_df = pd.DataFrame(permutations_results, columns=[y.name])\n",
    "    explainer = calc_shap(model, x_test)\n",
    "\n",
    "\n",
    "    # result_df.to_csv(os.path.join(out_dir, 'results.csv'))\n",
    "    save_files(x_train, x_test, y_train, y_test, y_pred, result_df, model, perm_df, is_signal, out_dir, y.name)\n",
    "    plt.clf()\n",
    "    shap.summary_plot(explainer.shap_values(x_test), x_test, show=False)\n",
    "    plt.savefig('summary_plot.png', bbox_inches='tight')\n",
    "\n",
    "\n",
    "\n",
    "    print(f'finished {y.name} at {time.strftime(\"%H:%M:%S\", time.localtime())}')\n",
    "    return x_train, x_test, y_train, y_test, y_pred, model, results_dict, permutations_results, is_signal\n",
    "\n"
   ],
   "metadata": {
    "collapsed": false,
    "pycharm": {
     "name": "#%%\n"
    }
   }
  },
  {
   "cell_type": "code",
   "execution_count": 83,
   "outputs": [],
   "source": [
    "%%capture\n",
    "\n",
    "results_unbalanced = LGBMPredict(x, y, out_dir, do_permutations=False, scale_pos_weight=1000)"
   ],
   "metadata": {
    "collapsed": false,
    "pycharm": {
     "name": "#%%\n"
    }
   }
  },
  {
   "cell_type": "code",
   "execution_count": 100,
   "outputs": [
    {
     "name": "stdout",
     "output_type": "stream",
     "text": [
      "number of is_self in test set isis_self    196.0\n",
      "dtype: float64, and number of is_self in predicted set is is_self    0.0\n",
      "dtype: float64\n"
     ]
    }
   ],
   "source": [
    "print(f'number of is_self in test set is {results_unbalanced[3].sum()}, and number of is_self in predicted set is {results_unbalanced[4].sum()}')"
   ],
   "metadata": {
    "collapsed": false,
    "pycharm": {
     "name": "#%%\n"
    }
   }
  },
  {
   "cell_type": "code",
   "execution_count": 71,
   "outputs": [
    {
     "data": {
      "text/plain": "'/net/mraid08/export/genie/LabData/Analyses/galavner/Predictions/ContrasiveTrees'"
     },
     "execution_count": 71,
     "metadata": {},
     "output_type": "execute_result"
    }
   ],
   "source": [
    "out_dir"
   ],
   "metadata": {
    "collapsed": false,
    "pycharm": {
     "name": "#%%\n"
    }
   }
  },
  {
   "cell_type": "code",
   "execution_count": 70,
   "outputs": [
    {
     "data": {
      "text/plain": "{'prevalence': 0.00098, 'AUC': 0.5, 'Precision_Recall': 0.50049}"
     },
     "execution_count": 70,
     "metadata": {},
     "output_type": "execute_result"
    }
   ],
   "source": [
    "results_unbalanced[6]"
   ],
   "metadata": {
    "collapsed": false,
    "pycharm": {
     "name": "#%%\n"
    }
   }
  }
 ],
 "metadata": {
  "kernelspec": {
   "display_name": "Python 3",
   "language": "python",
   "name": "python3"
  },
  "language_info": {
   "codemirror_mode": {
    "name": "ipython",
    "version": 2
   },
   "file_extension": ".py",
   "mimetype": "text/x-python",
   "name": "python",
   "nbconvert_exporter": "python",
   "pygments_lexer": "ipython2",
   "version": "2.7.6"
  }
 },
 "nbformat": 4,
 "nbformat_minor": 0
}