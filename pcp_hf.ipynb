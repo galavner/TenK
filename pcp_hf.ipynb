{
 "cells": [
  {
   "cell_type": "code",
   "execution_count": 1,
   "metadata": {
    "collapsed": true
   },
   "outputs": [],
   "source": [
    "import os\n",
    "from os.path import join\n",
    "\n",
    "import glob\n",
    "import matplotlib.pyplot as plt\n",
    "import seaborn as sns\n",
    "\n",
    "import numpy as np\n",
    "import pandas as pd\n",
    "\n",
    "import config_local as cl\n",
    "import Loaders\n",
    "import pcp_hf"
   ]
  },
  {
   "cell_type": "code",
   "execution_count": 2,
   "outputs": [],
   "source": [
    "body = Loaders.get_BodyMeasuresLoaderDF()\n",
    "blood = Loaders.get_BloodTestsLoaderDF()\n",
    "ecg = Loaders.get_ECGTextLoader()\n",
    "subject = Loaders.get_SubjectLoader()\n",
    "\n",
    "from LabData.DataLoaders.LifeStyleLoader import LifeStyleLoader\n",
    "life = LifeStyleLoader().get_data(study_ids='10K', groupby_reg='first')"
   ],
   "metadata": {
    "collapsed": false,
    "pycharm": {
     "name": "#%%\n"
    }
   }
  },
  {
   "cell_type": "code",
   "execution_count": 128,
   "outputs": [
    {
     "data": {
      "text/plain": "                 standing_one_min_blood_pressure_systolic        bmi   age  \\\nRegistrationCode                                                             \n10K_1001201093                                      103.0  20.553633  43.0   \n10K_1002087123                                      135.0  36.660603  45.0   \n10K_1003113258                                      145.0  23.860134  50.0   \n10K_1007599726                                       91.0  23.051754  58.0   \n10K_1007699078                                      137.0  25.233089  56.0   \n...                                                   ...        ...   ...   \n10K_9991294748                                       97.0  26.978783  47.0   \n10K_9994795317                                      134.0  26.277285  49.0   \n10K_9996884777                                      106.0  30.736282  53.0   \n10K_9999226141                                      129.0  24.624701  44.0   \n10K_9999409119                                      110.0  37.638382  56.0   \n\n                  gender  bt__glucose  bt__total_cholesterol  \\\nRegistrationCode                                               \n10K_1001201093       0.0         89.0                  172.4   \n10K_1002087123       0.0         95.0                  201.7   \n10K_1003113258       1.0        104.0                  155.0   \n10K_1007599726       0.0         84.0                  225.2   \n10K_1007699078       1.0         87.0                  162.5   \n...                  ...          ...                    ...   \n10K_9991294748       0.0         84.0                  172.0   \n10K_9994795317       1.0        124.0                  208.0   \n10K_9996884777       0.0         91.0                  181.0   \n10K_9999226141       1.0         87.0                  214.0   \n10K_9999409119       0.0        106.0                  217.0   \n\n                  bt__hdl_cholesterol  qrs_ms  smoke_tobacco_now  \nRegistrationCode                                                  \n10K_1001201093                   64.0    92.0                1.0  \n10K_1002087123                   38.0    94.0                0.0  \n10K_1003113258                   48.0   102.0                0.0  \n10K_1007599726                   70.0    92.0                0.0  \n10K_1007699078                   51.0    90.0                0.0  \n...                               ...     ...                ...  \n10K_9991294748                   51.0    92.0                1.0  \n10K_9994795317                   36.0    90.0                0.0  \n10K_9996884777                   48.0   104.0                1.0  \n10K_9999226141                   45.3   112.0                0.0  \n10K_9999409119                   64.0    96.0                1.0  \n\n[6073 rows x 9 columns]",
      "text/html": "<div>\n<style scoped>\n    .dataframe tbody tr th:only-of-type {\n        vertical-align: middle;\n    }\n\n    .dataframe tbody tr th {\n        vertical-align: top;\n    }\n\n    .dataframe thead th {\n        text-align: right;\n    }\n</style>\n<table border=\"1\" class=\"dataframe\">\n  <thead>\n    <tr style=\"text-align: right;\">\n      <th></th>\n      <th>standing_one_min_blood_pressure_systolic</th>\n      <th>bmi</th>\n      <th>age</th>\n      <th>gender</th>\n      <th>bt__glucose</th>\n      <th>bt__total_cholesterol</th>\n      <th>bt__hdl_cholesterol</th>\n      <th>qrs_ms</th>\n      <th>smoke_tobacco_now</th>\n    </tr>\n    <tr>\n      <th>RegistrationCode</th>\n      <th></th>\n      <th></th>\n      <th></th>\n      <th></th>\n      <th></th>\n      <th></th>\n      <th></th>\n      <th></th>\n      <th></th>\n    </tr>\n  </thead>\n  <tbody>\n    <tr>\n      <th>10K_1001201093</th>\n      <td>103.0</td>\n      <td>20.553633</td>\n      <td>43.0</td>\n      <td>0.0</td>\n      <td>89.0</td>\n      <td>172.4</td>\n      <td>64.0</td>\n      <td>92.0</td>\n      <td>1.0</td>\n    </tr>\n    <tr>\n      <th>10K_1002087123</th>\n      <td>135.0</td>\n      <td>36.660603</td>\n      <td>45.0</td>\n      <td>0.0</td>\n      <td>95.0</td>\n      <td>201.7</td>\n      <td>38.0</td>\n      <td>94.0</td>\n      <td>0.0</td>\n    </tr>\n    <tr>\n      <th>10K_1003113258</th>\n      <td>145.0</td>\n      <td>23.860134</td>\n      <td>50.0</td>\n      <td>1.0</td>\n      <td>104.0</td>\n      <td>155.0</td>\n      <td>48.0</td>\n      <td>102.0</td>\n      <td>0.0</td>\n    </tr>\n    <tr>\n      <th>10K_1007599726</th>\n      <td>91.0</td>\n      <td>23.051754</td>\n      <td>58.0</td>\n      <td>0.0</td>\n      <td>84.0</td>\n      <td>225.2</td>\n      <td>70.0</td>\n      <td>92.0</td>\n      <td>0.0</td>\n    </tr>\n    <tr>\n      <th>10K_1007699078</th>\n      <td>137.0</td>\n      <td>25.233089</td>\n      <td>56.0</td>\n      <td>1.0</td>\n      <td>87.0</td>\n      <td>162.5</td>\n      <td>51.0</td>\n      <td>90.0</td>\n      <td>0.0</td>\n    </tr>\n    <tr>\n      <th>...</th>\n      <td>...</td>\n      <td>...</td>\n      <td>...</td>\n      <td>...</td>\n      <td>...</td>\n      <td>...</td>\n      <td>...</td>\n      <td>...</td>\n      <td>...</td>\n    </tr>\n    <tr>\n      <th>10K_9991294748</th>\n      <td>97.0</td>\n      <td>26.978783</td>\n      <td>47.0</td>\n      <td>0.0</td>\n      <td>84.0</td>\n      <td>172.0</td>\n      <td>51.0</td>\n      <td>92.0</td>\n      <td>1.0</td>\n    </tr>\n    <tr>\n      <th>10K_9994795317</th>\n      <td>134.0</td>\n      <td>26.277285</td>\n      <td>49.0</td>\n      <td>1.0</td>\n      <td>124.0</td>\n      <td>208.0</td>\n      <td>36.0</td>\n      <td>90.0</td>\n      <td>0.0</td>\n    </tr>\n    <tr>\n      <th>10K_9996884777</th>\n      <td>106.0</td>\n      <td>30.736282</td>\n      <td>53.0</td>\n      <td>0.0</td>\n      <td>91.0</td>\n      <td>181.0</td>\n      <td>48.0</td>\n      <td>104.0</td>\n      <td>1.0</td>\n    </tr>\n    <tr>\n      <th>10K_9999226141</th>\n      <td>129.0</td>\n      <td>24.624701</td>\n      <td>44.0</td>\n      <td>1.0</td>\n      <td>87.0</td>\n      <td>214.0</td>\n      <td>45.3</td>\n      <td>112.0</td>\n      <td>0.0</td>\n    </tr>\n    <tr>\n      <th>10K_9999409119</th>\n      <td>110.0</td>\n      <td>37.638382</td>\n      <td>56.0</td>\n      <td>0.0</td>\n      <td>106.0</td>\n      <td>217.0</td>\n      <td>64.0</td>\n      <td>96.0</td>\n      <td>1.0</td>\n    </tr>\n  </tbody>\n</table>\n<p>6073 rows × 9 columns</p>\n</div>"
     },
     "execution_count": 128,
     "metadata": {},
     "output_type": "execute_result"
    }
   ],
   "source": [
    "pcp_body = body.df.droplevel(['Date'])[['standing_one_min_blood_pressure_systolic','bmi']]\n",
    "pcp_ag = subject\n",
    "\n",
    "pcp_smoke = life.df['smoke_tobacco_now'].droplevel(['Date'])\n",
    "pcp_smoke = pcp_smoke.apply(lambda x: 0 if x==0 else 1)\n",
    "pcp_blood = blood.df.droplevel(['Date'])[['bt__glucose', 'bt__total_cholesterol', 'bt__hdl_cholesterol']]\n",
    "pcp_ecg = ecg.df.droplevel(['Date'])['qrs_ms']\n",
    "pcp_features = pd.concat([pcp_body, pcp_ag, pcp_blood, pcp_ecg, pcp_smoke], axis=1)\n",
    "pcp_features = pcp_features.dropna()\n",
    "pcp_features"
   ],
   "metadata": {
    "collapsed": false,
    "pycharm": {
     "name": "#%%\n"
    }
   }
  },
  {
   "cell_type": "code",
   "execution_count": 129,
   "outputs": [
    {
     "data": {
      "text/plain": "RegistrationCode\n10K_1001201093    0.001468\n10K_1002087123    0.015183\n10K_1003113258    0.004430\n10K_1007599726    0.009308\n10K_1007699078    0.007401\n                    ...   \n10K_9991294748    0.007476\n10K_9994795317    0.004163\n10K_9996884777    0.026312\n10K_9999226141    0.001497\n10K_9999409119    0.050111\nName: pcp_hf, Length: 6073, dtype: float64"
     },
     "execution_count": 129,
     "metadata": {},
     "output_type": "execute_result"
    }
   ],
   "source": [
    "pcp_risk = pd.Series(pcp_features.apply(lambda row: PCPHF(\n",
    "                             age=row.age, gender=row.gender, systolic=row.standing_one_min_blood_pressure_systolic, glucose=row.bt__glucose, cholesterol=row.bt__total_cholesterol, hdl=row.bt__hdl_cholesterol, qrs=row.qrs_ms, bmi=row.bmi, smoker=row.smoke_tobacco_now)\n",
    "                                        , axis=1), name='pcp_hf')\n",
    "pcp_risk"
   ],
   "metadata": {
    "collapsed": false,
    "pycharm": {
     "name": "#%%\n"
    }
   }
  },
  {
   "cell_type": "code",
   "execution_count": 130,
   "outputs": [],
   "source": [
    "cl.save_pickle(pcp_risk, join(cl.DB_RISK_SCORE_PATH, 'y'), 'pcp_hf.pickle')"
   ],
   "metadata": {
    "collapsed": false,
    "pycharm": {
     "name": "#%%\n"
    }
   }
  },
  {
   "cell_type": "code",
   "execution_count": 103,
   "outputs": [],
   "source": [
    "def PCPHF(age, gender,\n",
    "          systolic, glucose, cholesterol, hdl, bmi, qrs,\n",
    "          race='white', is_systolic_treated=False, smoker=0, is_glucose_treated=0):\n",
    "\n",
    "    coeff = cl.load_pickle(join(cl.DB_PATH, 'RiskScores', 'pcp_hf', 'coeff.pickle'))\n",
    "    score = 0\n",
    "\n",
    "    ln_age = np.log(age)\n",
    "    ln_systolic = np.log(systolic)\n",
    "    ln_glucose = np.log(glucose)\n",
    "    ln_cholesterol = np.log(cholesterol)\n",
    "    ln_hdl = np.log(hdl)\n",
    "    ln_bmi = np.log(bmi)\n",
    "    ln_qrs = np.log(qrs)\n",
    "\n",
    "    if gender==0 and race=='white':\n",
    "        coeff = coeff['white_male']\n",
    "    if gender==1 and race=='white':\n",
    "        coeff = coeff['white_female']\n",
    "    if gender==0 and race=='black':\n",
    "        coeff = coeff['black_male']\n",
    "    if gender==1 and race=='black':\n",
    "        coeff = coeff['black_female']\n",
    "\n",
    "    score += ln_age * coeff['ln_age']\n",
    "    score += ln_age**2 * coeff['ln_age_squared']\n",
    "    score += ln_systolic * coeff['ln_sys_treated'] if is_systolic_treated \\\n",
    "        else ln_systolic * coeff['ln_sys_untreated']\n",
    "    score += ln_age * ln_systolic * coeff['ln_age_sys_treated'] if is_systolic_treated\\\n",
    "        else ln_age * ln_systolic * coeff['ln_age_sys_untreated']\n",
    "    score += smoker * coeff['smoker']\n",
    "    score += ln_age * smoker * coeff['ln_age_smoker']\n",
    "    score += ln_glucose * coeff['ln_glucose_treated'] if is_glucose_treated\\\n",
    "    else ln_glucose * coeff['ln_glucose_untreated']\n",
    "    score += ln_cholesterol * coeff['ln_cholesterol']\n",
    "    score += ln_hdl * coeff['ln_hdl']\n",
    "    score += ln_bmi * coeff['ln_bmi']\n",
    "    score += ln_age * ln_bmi * coeff['ln_age_bmi']\n",
    "    score += ln_qrs * coeff['ln_qrs']\n",
    "\n",
    "    mean_cv = coeff['mean_cv']\n",
    "    s0 = coeff['s0']\n",
    "\n",
    "    risk = 1 - s0 ** (np.exp(score - mean_cv))\n",
    "\n",
    "    return risk\n",
    "\n",
    "# def PCPHF(ser):\n",
    "#     age = ser.age\n",
    "#     gender = ser.gender\n",
    "#     systolic=ser.standing_one_min_blood_pressure_systolic\n",
    "#     glucose=ser.bt__glucose\n",
    "#     cholesterol=ser.bt__total_cholesterol\n",
    "#     hdl=ser.bt__hdl_cholesterol\n",
    "#     qrs=ser.qrs_ms\n",
    "#     bmi=ser.bmi\n",
    "#\n",
    "#     risk = _PCPHF(age=age, gender=gender, systolic=systolic, glucose=glucose, cholesterol=cholesterol, hdl=hdl, qrs=qrs, bmi=bmi)\n",
    "#\n",
    "#     return risk"
   ],
   "metadata": {
    "collapsed": false,
    "pycharm": {
     "name": "#%%\n"
    }
   }
  }
 ],
 "metadata": {
  "kernelspec": {
   "display_name": "Python 3",
   "language": "python",
   "name": "python3"
  },
  "language_info": {
   "codemirror_mode": {
    "name": "ipython",
    "version": 2
   },
   "file_extension": ".py",
   "mimetype": "text/x-python",
   "name": "python",
   "nbconvert_exporter": "python",
   "pygments_lexer": "ipython2",
   "version": "2.7.6"
  }
 },
 "nbformat": 4,
 "nbformat_minor": 0
}